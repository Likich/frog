{
  "nbformat": 4,
  "nbformat_minor": 0,
  "metadata": {
    "colab": {
      "provenance": [],
      "gpuType": "T4",
      "collapsed_sections": [
        "Ue_kkmBXmL4Z",
        "RTy1mz9wmCbI",
        "pswzy3bkmFb0"
      ]
    },
    "kernelspec": {
      "name": "python3",
      "display_name": "Python 3"
    },
    "language_info": {
      "name": "python"
    },
    "accelerator": "GPU",
    "widgets": {
      "application/vnd.jupyter.widget-state+json": {
        "ec86525666504f9482554a9a5b00349c": {
          "model_module": "@jupyter-widgets/controls",
          "model_name": "HBoxModel",
          "model_module_version": "1.5.0",
          "state": {
            "_dom_classes": [],
            "_model_module": "@jupyter-widgets/controls",
            "_model_module_version": "1.5.0",
            "_model_name": "HBoxModel",
            "_view_count": null,
            "_view_module": "@jupyter-widgets/controls",
            "_view_module_version": "1.5.0",
            "_view_name": "HBoxView",
            "box_style": "",
            "children": [
              "IPY_MODEL_7845ea5462a247d6b309d43ee9e47100",
              "IPY_MODEL_3ae77e25192d4adcbfd2258e5180e5ce",
              "IPY_MODEL_293ddc89b6524ea39adb34792d037d3f"
            ],
            "layout": "IPY_MODEL_6649a1677fc44b9fae87384fdc58a9b3"
          }
        },
        "7845ea5462a247d6b309d43ee9e47100": {
          "model_module": "@jupyter-widgets/controls",
          "model_name": "HTMLModel",
          "model_module_version": "1.5.0",
          "state": {
            "_dom_classes": [],
            "_model_module": "@jupyter-widgets/controls",
            "_model_module_version": "1.5.0",
            "_model_name": "HTMLModel",
            "_view_count": null,
            "_view_module": "@jupyter-widgets/controls",
            "_view_module_version": "1.5.0",
            "_view_name": "HTMLView",
            "description": "",
            "description_tooltip": null,
            "layout": "IPY_MODEL_b078b5b2c33f4be48e2df7714c5fdb5b",
            "placeholder": "​",
            "style": "IPY_MODEL_3398a3c2ed0040ac9f8eff666fa06c24",
            "value": "Downloading (…)solve/main/vocab.txt: 100%"
          }
        },
        "3ae77e25192d4adcbfd2258e5180e5ce": {
          "model_module": "@jupyter-widgets/controls",
          "model_name": "FloatProgressModel",
          "model_module_version": "1.5.0",
          "state": {
            "_dom_classes": [],
            "_model_module": "@jupyter-widgets/controls",
            "_model_module_version": "1.5.0",
            "_model_name": "FloatProgressModel",
            "_view_count": null,
            "_view_module": "@jupyter-widgets/controls",
            "_view_module_version": "1.5.0",
            "_view_name": "ProgressView",
            "bar_style": "success",
            "description": "",
            "description_tooltip": null,
            "layout": "IPY_MODEL_d243c58c91364fcd928cdcbf80cf3030",
            "max": 995526,
            "min": 0,
            "orientation": "horizontal",
            "style": "IPY_MODEL_0cd9a9704da247a3a675a45ef8b80787",
            "value": 995526
          }
        },
        "293ddc89b6524ea39adb34792d037d3f": {
          "model_module": "@jupyter-widgets/controls",
          "model_name": "HTMLModel",
          "model_module_version": "1.5.0",
          "state": {
            "_dom_classes": [],
            "_model_module": "@jupyter-widgets/controls",
            "_model_module_version": "1.5.0",
            "_model_name": "HTMLModel",
            "_view_count": null,
            "_view_module": "@jupyter-widgets/controls",
            "_view_module_version": "1.5.0",
            "_view_name": "HTMLView",
            "description": "",
            "description_tooltip": null,
            "layout": "IPY_MODEL_b8bb594249c84ee69e8d12cf3c142dfd",
            "placeholder": "​",
            "style": "IPY_MODEL_048fd8030775442688828c930421d64b",
            "value": " 996k/996k [00:00&lt;00:00, 1.27MB/s]"
          }
        },
        "6649a1677fc44b9fae87384fdc58a9b3": {
          "model_module": "@jupyter-widgets/base",
          "model_name": "LayoutModel",
          "model_module_version": "1.2.0",
          "state": {
            "_model_module": "@jupyter-widgets/base",
            "_model_module_version": "1.2.0",
            "_model_name": "LayoutModel",
            "_view_count": null,
            "_view_module": "@jupyter-widgets/base",
            "_view_module_version": "1.2.0",
            "_view_name": "LayoutView",
            "align_content": null,
            "align_items": null,
            "align_self": null,
            "border": null,
            "bottom": null,
            "display": null,
            "flex": null,
            "flex_flow": null,
            "grid_area": null,
            "grid_auto_columns": null,
            "grid_auto_flow": null,
            "grid_auto_rows": null,
            "grid_column": null,
            "grid_gap": null,
            "grid_row": null,
            "grid_template_areas": null,
            "grid_template_columns": null,
            "grid_template_rows": null,
            "height": null,
            "justify_content": null,
            "justify_items": null,
            "left": null,
            "margin": null,
            "max_height": null,
            "max_width": null,
            "min_height": null,
            "min_width": null,
            "object_fit": null,
            "object_position": null,
            "order": null,
            "overflow": null,
            "overflow_x": null,
            "overflow_y": null,
            "padding": null,
            "right": null,
            "top": null,
            "visibility": null,
            "width": null
          }
        },
        "b078b5b2c33f4be48e2df7714c5fdb5b": {
          "model_module": "@jupyter-widgets/base",
          "model_name": "LayoutModel",
          "model_module_version": "1.2.0",
          "state": {
            "_model_module": "@jupyter-widgets/base",
            "_model_module_version": "1.2.0",
            "_model_name": "LayoutModel",
            "_view_count": null,
            "_view_module": "@jupyter-widgets/base",
            "_view_module_version": "1.2.0",
            "_view_name": "LayoutView",
            "align_content": null,
            "align_items": null,
            "align_self": null,
            "border": null,
            "bottom": null,
            "display": null,
            "flex": null,
            "flex_flow": null,
            "grid_area": null,
            "grid_auto_columns": null,
            "grid_auto_flow": null,
            "grid_auto_rows": null,
            "grid_column": null,
            "grid_gap": null,
            "grid_row": null,
            "grid_template_areas": null,
            "grid_template_columns": null,
            "grid_template_rows": null,
            "height": null,
            "justify_content": null,
            "justify_items": null,
            "left": null,
            "margin": null,
            "max_height": null,
            "max_width": null,
            "min_height": null,
            "min_width": null,
            "object_fit": null,
            "object_position": null,
            "order": null,
            "overflow": null,
            "overflow_x": null,
            "overflow_y": null,
            "padding": null,
            "right": null,
            "top": null,
            "visibility": null,
            "width": null
          }
        },
        "3398a3c2ed0040ac9f8eff666fa06c24": {
          "model_module": "@jupyter-widgets/controls",
          "model_name": "DescriptionStyleModel",
          "model_module_version": "1.5.0",
          "state": {
            "_model_module": "@jupyter-widgets/controls",
            "_model_module_version": "1.5.0",
            "_model_name": "DescriptionStyleModel",
            "_view_count": null,
            "_view_module": "@jupyter-widgets/base",
            "_view_module_version": "1.2.0",
            "_view_name": "StyleView",
            "description_width": ""
          }
        },
        "d243c58c91364fcd928cdcbf80cf3030": {
          "model_module": "@jupyter-widgets/base",
          "model_name": "LayoutModel",
          "model_module_version": "1.2.0",
          "state": {
            "_model_module": "@jupyter-widgets/base",
            "_model_module_version": "1.2.0",
            "_model_name": "LayoutModel",
            "_view_count": null,
            "_view_module": "@jupyter-widgets/base",
            "_view_module_version": "1.2.0",
            "_view_name": "LayoutView",
            "align_content": null,
            "align_items": null,
            "align_self": null,
            "border": null,
            "bottom": null,
            "display": null,
            "flex": null,
            "flex_flow": null,
            "grid_area": null,
            "grid_auto_columns": null,
            "grid_auto_flow": null,
            "grid_auto_rows": null,
            "grid_column": null,
            "grid_gap": null,
            "grid_row": null,
            "grid_template_areas": null,
            "grid_template_columns": null,
            "grid_template_rows": null,
            "height": null,
            "justify_content": null,
            "justify_items": null,
            "left": null,
            "margin": null,
            "max_height": null,
            "max_width": null,
            "min_height": null,
            "min_width": null,
            "object_fit": null,
            "object_position": null,
            "order": null,
            "overflow": null,
            "overflow_x": null,
            "overflow_y": null,
            "padding": null,
            "right": null,
            "top": null,
            "visibility": null,
            "width": null
          }
        },
        "0cd9a9704da247a3a675a45ef8b80787": {
          "model_module": "@jupyter-widgets/controls",
          "model_name": "ProgressStyleModel",
          "model_module_version": "1.5.0",
          "state": {
            "_model_module": "@jupyter-widgets/controls",
            "_model_module_version": "1.5.0",
            "_model_name": "ProgressStyleModel",
            "_view_count": null,
            "_view_module": "@jupyter-widgets/base",
            "_view_module_version": "1.2.0",
            "_view_name": "StyleView",
            "bar_color": null,
            "description_width": ""
          }
        },
        "b8bb594249c84ee69e8d12cf3c142dfd": {
          "model_module": "@jupyter-widgets/base",
          "model_name": "LayoutModel",
          "model_module_version": "1.2.0",
          "state": {
            "_model_module": "@jupyter-widgets/base",
            "_model_module_version": "1.2.0",
            "_model_name": "LayoutModel",
            "_view_count": null,
            "_view_module": "@jupyter-widgets/base",
            "_view_module_version": "1.2.0",
            "_view_name": "LayoutView",
            "align_content": null,
            "align_items": null,
            "align_self": null,
            "border": null,
            "bottom": null,
            "display": null,
            "flex": null,
            "flex_flow": null,
            "grid_area": null,
            "grid_auto_columns": null,
            "grid_auto_flow": null,
            "grid_auto_rows": null,
            "grid_column": null,
            "grid_gap": null,
            "grid_row": null,
            "grid_template_areas": null,
            "grid_template_columns": null,
            "grid_template_rows": null,
            "height": null,
            "justify_content": null,
            "justify_items": null,
            "left": null,
            "margin": null,
            "max_height": null,
            "max_width": null,
            "min_height": null,
            "min_width": null,
            "object_fit": null,
            "object_position": null,
            "order": null,
            "overflow": null,
            "overflow_x": null,
            "overflow_y": null,
            "padding": null,
            "right": null,
            "top": null,
            "visibility": null,
            "width": null
          }
        },
        "048fd8030775442688828c930421d64b": {
          "model_module": "@jupyter-widgets/controls",
          "model_name": "DescriptionStyleModel",
          "model_module_version": "1.5.0",
          "state": {
            "_model_module": "@jupyter-widgets/controls",
            "_model_module_version": "1.5.0",
            "_model_name": "DescriptionStyleModel",
            "_view_count": null,
            "_view_module": "@jupyter-widgets/base",
            "_view_module_version": "1.2.0",
            "_view_name": "StyleView",
            "description_width": ""
          }
        },
        "cfb5515cfb0640c6a4c71d2d166cdb55": {
          "model_module": "@jupyter-widgets/controls",
          "model_name": "HBoxModel",
          "model_module_version": "1.5.0",
          "state": {
            "_dom_classes": [],
            "_model_module": "@jupyter-widgets/controls",
            "_model_module_version": "1.5.0",
            "_model_name": "HBoxModel",
            "_view_count": null,
            "_view_module": "@jupyter-widgets/controls",
            "_view_module_version": "1.5.0",
            "_view_name": "HBoxView",
            "box_style": "",
            "children": [
              "IPY_MODEL_ab6844c7c8124757aa22cb4935cba7fc",
              "IPY_MODEL_e9d1c351322346ba96c9456abbb2f102",
              "IPY_MODEL_a8c04b9198cc4a919bbccae9ef1abe99"
            ],
            "layout": "IPY_MODEL_4e36bcdf2a5c4e2690b18f88d3fe46a3"
          }
        },
        "ab6844c7c8124757aa22cb4935cba7fc": {
          "model_module": "@jupyter-widgets/controls",
          "model_name": "HTMLModel",
          "model_module_version": "1.5.0",
          "state": {
            "_dom_classes": [],
            "_model_module": "@jupyter-widgets/controls",
            "_model_module_version": "1.5.0",
            "_model_name": "HTMLModel",
            "_view_count": null,
            "_view_module": "@jupyter-widgets/controls",
            "_view_module_version": "1.5.0",
            "_view_name": "HTMLView",
            "description": "",
            "description_tooltip": null,
            "layout": "IPY_MODEL_38d0064d6ff54aed9abbae0f9a43935d",
            "placeholder": "​",
            "style": "IPY_MODEL_5a5bd1380d2d4656884838863a5b778c",
            "value": "Downloading (…)okenizer_config.json: 100%"
          }
        },
        "e9d1c351322346ba96c9456abbb2f102": {
          "model_module": "@jupyter-widgets/controls",
          "model_name": "FloatProgressModel",
          "model_module_version": "1.5.0",
          "state": {
            "_dom_classes": [],
            "_model_module": "@jupyter-widgets/controls",
            "_model_module_version": "1.5.0",
            "_model_name": "FloatProgressModel",
            "_view_count": null,
            "_view_module": "@jupyter-widgets/controls",
            "_view_module_version": "1.5.0",
            "_view_name": "ProgressView",
            "bar_style": "success",
            "description": "",
            "description_tooltip": null,
            "layout": "IPY_MODEL_08d34fe45f464572b01f4dfdeab84289",
            "max": 29,
            "min": 0,
            "orientation": "horizontal",
            "style": "IPY_MODEL_b38e5846e9d84f219d09447b9cf6108c",
            "value": 29
          }
        },
        "a8c04b9198cc4a919bbccae9ef1abe99": {
          "model_module": "@jupyter-widgets/controls",
          "model_name": "HTMLModel",
          "model_module_version": "1.5.0",
          "state": {
            "_dom_classes": [],
            "_model_module": "@jupyter-widgets/controls",
            "_model_module_version": "1.5.0",
            "_model_name": "HTMLModel",
            "_view_count": null,
            "_view_module": "@jupyter-widgets/controls",
            "_view_module_version": "1.5.0",
            "_view_name": "HTMLView",
            "description": "",
            "description_tooltip": null,
            "layout": "IPY_MODEL_258f34fc9b0144b7b2394bdfb025c627",
            "placeholder": "​",
            "style": "IPY_MODEL_5e25dc043cf84c8081096d9a05f378c3",
            "value": " 29.0/29.0 [00:00&lt;00:00, 1.96kB/s]"
          }
        },
        "4e36bcdf2a5c4e2690b18f88d3fe46a3": {
          "model_module": "@jupyter-widgets/base",
          "model_name": "LayoutModel",
          "model_module_version": "1.2.0",
          "state": {
            "_model_module": "@jupyter-widgets/base",
            "_model_module_version": "1.2.0",
            "_model_name": "LayoutModel",
            "_view_count": null,
            "_view_module": "@jupyter-widgets/base",
            "_view_module_version": "1.2.0",
            "_view_name": "LayoutView",
            "align_content": null,
            "align_items": null,
            "align_self": null,
            "border": null,
            "bottom": null,
            "display": null,
            "flex": null,
            "flex_flow": null,
            "grid_area": null,
            "grid_auto_columns": null,
            "grid_auto_flow": null,
            "grid_auto_rows": null,
            "grid_column": null,
            "grid_gap": null,
            "grid_row": null,
            "grid_template_areas": null,
            "grid_template_columns": null,
            "grid_template_rows": null,
            "height": null,
            "justify_content": null,
            "justify_items": null,
            "left": null,
            "margin": null,
            "max_height": null,
            "max_width": null,
            "min_height": null,
            "min_width": null,
            "object_fit": null,
            "object_position": null,
            "order": null,
            "overflow": null,
            "overflow_x": null,
            "overflow_y": null,
            "padding": null,
            "right": null,
            "top": null,
            "visibility": null,
            "width": null
          }
        },
        "38d0064d6ff54aed9abbae0f9a43935d": {
          "model_module": "@jupyter-widgets/base",
          "model_name": "LayoutModel",
          "model_module_version": "1.2.0",
          "state": {
            "_model_module": "@jupyter-widgets/base",
            "_model_module_version": "1.2.0",
            "_model_name": "LayoutModel",
            "_view_count": null,
            "_view_module": "@jupyter-widgets/base",
            "_view_module_version": "1.2.0",
            "_view_name": "LayoutView",
            "align_content": null,
            "align_items": null,
            "align_self": null,
            "border": null,
            "bottom": null,
            "display": null,
            "flex": null,
            "flex_flow": null,
            "grid_area": null,
            "grid_auto_columns": null,
            "grid_auto_flow": null,
            "grid_auto_rows": null,
            "grid_column": null,
            "grid_gap": null,
            "grid_row": null,
            "grid_template_areas": null,
            "grid_template_columns": null,
            "grid_template_rows": null,
            "height": null,
            "justify_content": null,
            "justify_items": null,
            "left": null,
            "margin": null,
            "max_height": null,
            "max_width": null,
            "min_height": null,
            "min_width": null,
            "object_fit": null,
            "object_position": null,
            "order": null,
            "overflow": null,
            "overflow_x": null,
            "overflow_y": null,
            "padding": null,
            "right": null,
            "top": null,
            "visibility": null,
            "width": null
          }
        },
        "5a5bd1380d2d4656884838863a5b778c": {
          "model_module": "@jupyter-widgets/controls",
          "model_name": "DescriptionStyleModel",
          "model_module_version": "1.5.0",
          "state": {
            "_model_module": "@jupyter-widgets/controls",
            "_model_module_version": "1.5.0",
            "_model_name": "DescriptionStyleModel",
            "_view_count": null,
            "_view_module": "@jupyter-widgets/base",
            "_view_module_version": "1.2.0",
            "_view_name": "StyleView",
            "description_width": ""
          }
        },
        "08d34fe45f464572b01f4dfdeab84289": {
          "model_module": "@jupyter-widgets/base",
          "model_name": "LayoutModel",
          "model_module_version": "1.2.0",
          "state": {
            "_model_module": "@jupyter-widgets/base",
            "_model_module_version": "1.2.0",
            "_model_name": "LayoutModel",
            "_view_count": null,
            "_view_module": "@jupyter-widgets/base",
            "_view_module_version": "1.2.0",
            "_view_name": "LayoutView",
            "align_content": null,
            "align_items": null,
            "align_self": null,
            "border": null,
            "bottom": null,
            "display": null,
            "flex": null,
            "flex_flow": null,
            "grid_area": null,
            "grid_auto_columns": null,
            "grid_auto_flow": null,
            "grid_auto_rows": null,
            "grid_column": null,
            "grid_gap": null,
            "grid_row": null,
            "grid_template_areas": null,
            "grid_template_columns": null,
            "grid_template_rows": null,
            "height": null,
            "justify_content": null,
            "justify_items": null,
            "left": null,
            "margin": null,
            "max_height": null,
            "max_width": null,
            "min_height": null,
            "min_width": null,
            "object_fit": null,
            "object_position": null,
            "order": null,
            "overflow": null,
            "overflow_x": null,
            "overflow_y": null,
            "padding": null,
            "right": null,
            "top": null,
            "visibility": null,
            "width": null
          }
        },
        "b38e5846e9d84f219d09447b9cf6108c": {
          "model_module": "@jupyter-widgets/controls",
          "model_name": "ProgressStyleModel",
          "model_module_version": "1.5.0",
          "state": {
            "_model_module": "@jupyter-widgets/controls",
            "_model_module_version": "1.5.0",
            "_model_name": "ProgressStyleModel",
            "_view_count": null,
            "_view_module": "@jupyter-widgets/base",
            "_view_module_version": "1.2.0",
            "_view_name": "StyleView",
            "bar_color": null,
            "description_width": ""
          }
        },
        "258f34fc9b0144b7b2394bdfb025c627": {
          "model_module": "@jupyter-widgets/base",
          "model_name": "LayoutModel",
          "model_module_version": "1.2.0",
          "state": {
            "_model_module": "@jupyter-widgets/base",
            "_model_module_version": "1.2.0",
            "_model_name": "LayoutModel",
            "_view_count": null,
            "_view_module": "@jupyter-widgets/base",
            "_view_module_version": "1.2.0",
            "_view_name": "LayoutView",
            "align_content": null,
            "align_items": null,
            "align_self": null,
            "border": null,
            "bottom": null,
            "display": null,
            "flex": null,
            "flex_flow": null,
            "grid_area": null,
            "grid_auto_columns": null,
            "grid_auto_flow": null,
            "grid_auto_rows": null,
            "grid_column": null,
            "grid_gap": null,
            "grid_row": null,
            "grid_template_areas": null,
            "grid_template_columns": null,
            "grid_template_rows": null,
            "height": null,
            "justify_content": null,
            "justify_items": null,
            "left": null,
            "margin": null,
            "max_height": null,
            "max_width": null,
            "min_height": null,
            "min_width": null,
            "object_fit": null,
            "object_position": null,
            "order": null,
            "overflow": null,
            "overflow_x": null,
            "overflow_y": null,
            "padding": null,
            "right": null,
            "top": null,
            "visibility": null,
            "width": null
          }
        },
        "5e25dc043cf84c8081096d9a05f378c3": {
          "model_module": "@jupyter-widgets/controls",
          "model_name": "DescriptionStyleModel",
          "model_module_version": "1.5.0",
          "state": {
            "_model_module": "@jupyter-widgets/controls",
            "_model_module_version": "1.5.0",
            "_model_name": "DescriptionStyleModel",
            "_view_count": null,
            "_view_module": "@jupyter-widgets/base",
            "_view_module_version": "1.2.0",
            "_view_name": "StyleView",
            "description_width": ""
          }
        },
        "c17d2b4242e64c6894831bd3198f705a": {
          "model_module": "@jupyter-widgets/controls",
          "model_name": "HBoxModel",
          "model_module_version": "1.5.0",
          "state": {
            "_dom_classes": [],
            "_model_module": "@jupyter-widgets/controls",
            "_model_module_version": "1.5.0",
            "_model_name": "HBoxModel",
            "_view_count": null,
            "_view_module": "@jupyter-widgets/controls",
            "_view_module_version": "1.5.0",
            "_view_name": "HBoxView",
            "box_style": "",
            "children": [
              "IPY_MODEL_dd18bd56adc64ea98b551ccf6b45dbbe",
              "IPY_MODEL_6723360acaf147b5a1a2f2267772f054",
              "IPY_MODEL_4f4f113eae4544df9bcdc4264c19fb66"
            ],
            "layout": "IPY_MODEL_2287a941dc8345ea9d84c677d2e10381"
          }
        },
        "dd18bd56adc64ea98b551ccf6b45dbbe": {
          "model_module": "@jupyter-widgets/controls",
          "model_name": "HTMLModel",
          "model_module_version": "1.5.0",
          "state": {
            "_dom_classes": [],
            "_model_module": "@jupyter-widgets/controls",
            "_model_module_version": "1.5.0",
            "_model_name": "HTMLModel",
            "_view_count": null,
            "_view_module": "@jupyter-widgets/controls",
            "_view_module_version": "1.5.0",
            "_view_name": "HTMLView",
            "description": "",
            "description_tooltip": null,
            "layout": "IPY_MODEL_06fef8af0f8f438d8402ae1aaf9dc01b",
            "placeholder": "​",
            "style": "IPY_MODEL_a79fa41f0c734255a4ed7e3435a7f8a8",
            "value": "Downloading (…)lve/main/config.json: 100%"
          }
        },
        "6723360acaf147b5a1a2f2267772f054": {
          "model_module": "@jupyter-widgets/controls",
          "model_name": "FloatProgressModel",
          "model_module_version": "1.5.0",
          "state": {
            "_dom_classes": [],
            "_model_module": "@jupyter-widgets/controls",
            "_model_module_version": "1.5.0",
            "_model_name": "FloatProgressModel",
            "_view_count": null,
            "_view_module": "@jupyter-widgets/controls",
            "_view_module_version": "1.5.0",
            "_view_name": "ProgressView",
            "bar_style": "success",
            "description": "",
            "description_tooltip": null,
            "layout": "IPY_MODEL_239c1731342c4da380fe16d65c13c25e",
            "max": 625,
            "min": 0,
            "orientation": "horizontal",
            "style": "IPY_MODEL_0d70bf91da914b9aa31ebdd2227b5d2d",
            "value": 625
          }
        },
        "4f4f113eae4544df9bcdc4264c19fb66": {
          "model_module": "@jupyter-widgets/controls",
          "model_name": "HTMLModel",
          "model_module_version": "1.5.0",
          "state": {
            "_dom_classes": [],
            "_model_module": "@jupyter-widgets/controls",
            "_model_module_version": "1.5.0",
            "_model_name": "HTMLModel",
            "_view_count": null,
            "_view_module": "@jupyter-widgets/controls",
            "_view_module_version": "1.5.0",
            "_view_name": "HTMLView",
            "description": "",
            "description_tooltip": null,
            "layout": "IPY_MODEL_f454236772b14a47a7863f7e470d467f",
            "placeholder": "​",
            "style": "IPY_MODEL_b3d725f8f66d4554ab91c8a575e3919e",
            "value": " 625/625 [00:00&lt;00:00, 45.8kB/s]"
          }
        },
        "2287a941dc8345ea9d84c677d2e10381": {
          "model_module": "@jupyter-widgets/base",
          "model_name": "LayoutModel",
          "model_module_version": "1.2.0",
          "state": {
            "_model_module": "@jupyter-widgets/base",
            "_model_module_version": "1.2.0",
            "_model_name": "LayoutModel",
            "_view_count": null,
            "_view_module": "@jupyter-widgets/base",
            "_view_module_version": "1.2.0",
            "_view_name": "LayoutView",
            "align_content": null,
            "align_items": null,
            "align_self": null,
            "border": null,
            "bottom": null,
            "display": null,
            "flex": null,
            "flex_flow": null,
            "grid_area": null,
            "grid_auto_columns": null,
            "grid_auto_flow": null,
            "grid_auto_rows": null,
            "grid_column": null,
            "grid_gap": null,
            "grid_row": null,
            "grid_template_areas": null,
            "grid_template_columns": null,
            "grid_template_rows": null,
            "height": null,
            "justify_content": null,
            "justify_items": null,
            "left": null,
            "margin": null,
            "max_height": null,
            "max_width": null,
            "min_height": null,
            "min_width": null,
            "object_fit": null,
            "object_position": null,
            "order": null,
            "overflow": null,
            "overflow_x": null,
            "overflow_y": null,
            "padding": null,
            "right": null,
            "top": null,
            "visibility": null,
            "width": null
          }
        },
        "06fef8af0f8f438d8402ae1aaf9dc01b": {
          "model_module": "@jupyter-widgets/base",
          "model_name": "LayoutModel",
          "model_module_version": "1.2.0",
          "state": {
            "_model_module": "@jupyter-widgets/base",
            "_model_module_version": "1.2.0",
            "_model_name": "LayoutModel",
            "_view_count": null,
            "_view_module": "@jupyter-widgets/base",
            "_view_module_version": "1.2.0",
            "_view_name": "LayoutView",
            "align_content": null,
            "align_items": null,
            "align_self": null,
            "border": null,
            "bottom": null,
            "display": null,
            "flex": null,
            "flex_flow": null,
            "grid_area": null,
            "grid_auto_columns": null,
            "grid_auto_flow": null,
            "grid_auto_rows": null,
            "grid_column": null,
            "grid_gap": null,
            "grid_row": null,
            "grid_template_areas": null,
            "grid_template_columns": null,
            "grid_template_rows": null,
            "height": null,
            "justify_content": null,
            "justify_items": null,
            "left": null,
            "margin": null,
            "max_height": null,
            "max_width": null,
            "min_height": null,
            "min_width": null,
            "object_fit": null,
            "object_position": null,
            "order": null,
            "overflow": null,
            "overflow_x": null,
            "overflow_y": null,
            "padding": null,
            "right": null,
            "top": null,
            "visibility": null,
            "width": null
          }
        },
        "a79fa41f0c734255a4ed7e3435a7f8a8": {
          "model_module": "@jupyter-widgets/controls",
          "model_name": "DescriptionStyleModel",
          "model_module_version": "1.5.0",
          "state": {
            "_model_module": "@jupyter-widgets/controls",
            "_model_module_version": "1.5.0",
            "_model_name": "DescriptionStyleModel",
            "_view_count": null,
            "_view_module": "@jupyter-widgets/base",
            "_view_module_version": "1.2.0",
            "_view_name": "StyleView",
            "description_width": ""
          }
        },
        "239c1731342c4da380fe16d65c13c25e": {
          "model_module": "@jupyter-widgets/base",
          "model_name": "LayoutModel",
          "model_module_version": "1.2.0",
          "state": {
            "_model_module": "@jupyter-widgets/base",
            "_model_module_version": "1.2.0",
            "_model_name": "LayoutModel",
            "_view_count": null,
            "_view_module": "@jupyter-widgets/base",
            "_view_module_version": "1.2.0",
            "_view_name": "LayoutView",
            "align_content": null,
            "align_items": null,
            "align_self": null,
            "border": null,
            "bottom": null,
            "display": null,
            "flex": null,
            "flex_flow": null,
            "grid_area": null,
            "grid_auto_columns": null,
            "grid_auto_flow": null,
            "grid_auto_rows": null,
            "grid_column": null,
            "grid_gap": null,
            "grid_row": null,
            "grid_template_areas": null,
            "grid_template_columns": null,
            "grid_template_rows": null,
            "height": null,
            "justify_content": null,
            "justify_items": null,
            "left": null,
            "margin": null,
            "max_height": null,
            "max_width": null,
            "min_height": null,
            "min_width": null,
            "object_fit": null,
            "object_position": null,
            "order": null,
            "overflow": null,
            "overflow_x": null,
            "overflow_y": null,
            "padding": null,
            "right": null,
            "top": null,
            "visibility": null,
            "width": null
          }
        },
        "0d70bf91da914b9aa31ebdd2227b5d2d": {
          "model_module": "@jupyter-widgets/controls",
          "model_name": "ProgressStyleModel",
          "model_module_version": "1.5.0",
          "state": {
            "_model_module": "@jupyter-widgets/controls",
            "_model_module_version": "1.5.0",
            "_model_name": "ProgressStyleModel",
            "_view_count": null,
            "_view_module": "@jupyter-widgets/base",
            "_view_module_version": "1.2.0",
            "_view_name": "StyleView",
            "bar_color": null,
            "description_width": ""
          }
        },
        "f454236772b14a47a7863f7e470d467f": {
          "model_module": "@jupyter-widgets/base",
          "model_name": "LayoutModel",
          "model_module_version": "1.2.0",
          "state": {
            "_model_module": "@jupyter-widgets/base",
            "_model_module_version": "1.2.0",
            "_model_name": "LayoutModel",
            "_view_count": null,
            "_view_module": "@jupyter-widgets/base",
            "_view_module_version": "1.2.0",
            "_view_name": "LayoutView",
            "align_content": null,
            "align_items": null,
            "align_self": null,
            "border": null,
            "bottom": null,
            "display": null,
            "flex": null,
            "flex_flow": null,
            "grid_area": null,
            "grid_auto_columns": null,
            "grid_auto_flow": null,
            "grid_auto_rows": null,
            "grid_column": null,
            "grid_gap": null,
            "grid_row": null,
            "grid_template_areas": null,
            "grid_template_columns": null,
            "grid_template_rows": null,
            "height": null,
            "justify_content": null,
            "justify_items": null,
            "left": null,
            "margin": null,
            "max_height": null,
            "max_width": null,
            "min_height": null,
            "min_width": null,
            "object_fit": null,
            "object_position": null,
            "order": null,
            "overflow": null,
            "overflow_x": null,
            "overflow_y": null,
            "padding": null,
            "right": null,
            "top": null,
            "visibility": null,
            "width": null
          }
        },
        "b3d725f8f66d4554ab91c8a575e3919e": {
          "model_module": "@jupyter-widgets/controls",
          "model_name": "DescriptionStyleModel",
          "model_module_version": "1.5.0",
          "state": {
            "_model_module": "@jupyter-widgets/controls",
            "_model_module_version": "1.5.0",
            "_model_name": "DescriptionStyleModel",
            "_view_count": null,
            "_view_module": "@jupyter-widgets/base",
            "_view_module_version": "1.2.0",
            "_view_name": "StyleView",
            "description_width": ""
          }
        },
        "b471ba4fb34f48fab0598423991c41ab": {
          "model_module": "@jupyter-widgets/controls",
          "model_name": "HBoxModel",
          "model_module_version": "1.5.0",
          "state": {
            "_dom_classes": [],
            "_model_module": "@jupyter-widgets/controls",
            "_model_module_version": "1.5.0",
            "_model_name": "HBoxModel",
            "_view_count": null,
            "_view_module": "@jupyter-widgets/controls",
            "_view_module_version": "1.5.0",
            "_view_name": "HBoxView",
            "box_style": "",
            "children": [
              "IPY_MODEL_d086bad3d3bb4de2895e0f9723fc230e",
              "IPY_MODEL_1dd712d7633a46aaacf62be17a4bd55a",
              "IPY_MODEL_bcd3490b4fe1444c8e7dabba04daab46"
            ],
            "layout": "IPY_MODEL_318a1c38797547b7964b9e8cba778252"
          }
        },
        "d086bad3d3bb4de2895e0f9723fc230e": {
          "model_module": "@jupyter-widgets/controls",
          "model_name": "HTMLModel",
          "model_module_version": "1.5.0",
          "state": {
            "_dom_classes": [],
            "_model_module": "@jupyter-widgets/controls",
            "_model_module_version": "1.5.0",
            "_model_name": "HTMLModel",
            "_view_count": null,
            "_view_module": "@jupyter-widgets/controls",
            "_view_module_version": "1.5.0",
            "_view_name": "HTMLView",
            "description": "",
            "description_tooltip": null,
            "layout": "IPY_MODEL_767924b5a97a47deb89f012048a68e3e",
            "placeholder": "​",
            "style": "IPY_MODEL_dc279877d1ed4bd39daa88673cac1988",
            "value": "Downloading model.safetensors: 100%"
          }
        },
        "1dd712d7633a46aaacf62be17a4bd55a": {
          "model_module": "@jupyter-widgets/controls",
          "model_name": "FloatProgressModel",
          "model_module_version": "1.5.0",
          "state": {
            "_dom_classes": [],
            "_model_module": "@jupyter-widgets/controls",
            "_model_module_version": "1.5.0",
            "_model_name": "FloatProgressModel",
            "_view_count": null,
            "_view_module": "@jupyter-widgets/controls",
            "_view_module_version": "1.5.0",
            "_view_name": "ProgressView",
            "bar_style": "success",
            "description": "",
            "description_tooltip": null,
            "layout": "IPY_MODEL_f68c4d3e7d0c467388b3d27182c553b7",
            "max": 714290682,
            "min": 0,
            "orientation": "horizontal",
            "style": "IPY_MODEL_c087afd1162d41b08b15cce16d2e4e46",
            "value": 714290682
          }
        },
        "bcd3490b4fe1444c8e7dabba04daab46": {
          "model_module": "@jupyter-widgets/controls",
          "model_name": "HTMLModel",
          "model_module_version": "1.5.0",
          "state": {
            "_dom_classes": [],
            "_model_module": "@jupyter-widgets/controls",
            "_model_module_version": "1.5.0",
            "_model_name": "HTMLModel",
            "_view_count": null,
            "_view_module": "@jupyter-widgets/controls",
            "_view_module_version": "1.5.0",
            "_view_name": "HTMLView",
            "description": "",
            "description_tooltip": null,
            "layout": "IPY_MODEL_0c0fee1270064c60a340748d6e00b368",
            "placeholder": "​",
            "style": "IPY_MODEL_d8d76b51b5e24c7783b3c7a8499b5853",
            "value": " 714M/714M [00:11&lt;00:00, 83.3MB/s]"
          }
        },
        "318a1c38797547b7964b9e8cba778252": {
          "model_module": "@jupyter-widgets/base",
          "model_name": "LayoutModel",
          "model_module_version": "1.2.0",
          "state": {
            "_model_module": "@jupyter-widgets/base",
            "_model_module_version": "1.2.0",
            "_model_name": "LayoutModel",
            "_view_count": null,
            "_view_module": "@jupyter-widgets/base",
            "_view_module_version": "1.2.0",
            "_view_name": "LayoutView",
            "align_content": null,
            "align_items": null,
            "align_self": null,
            "border": null,
            "bottom": null,
            "display": null,
            "flex": null,
            "flex_flow": null,
            "grid_area": null,
            "grid_auto_columns": null,
            "grid_auto_flow": null,
            "grid_auto_rows": null,
            "grid_column": null,
            "grid_gap": null,
            "grid_row": null,
            "grid_template_areas": null,
            "grid_template_columns": null,
            "grid_template_rows": null,
            "height": null,
            "justify_content": null,
            "justify_items": null,
            "left": null,
            "margin": null,
            "max_height": null,
            "max_width": null,
            "min_height": null,
            "min_width": null,
            "object_fit": null,
            "object_position": null,
            "order": null,
            "overflow": null,
            "overflow_x": null,
            "overflow_y": null,
            "padding": null,
            "right": null,
            "top": null,
            "visibility": null,
            "width": null
          }
        },
        "767924b5a97a47deb89f012048a68e3e": {
          "model_module": "@jupyter-widgets/base",
          "model_name": "LayoutModel",
          "model_module_version": "1.2.0",
          "state": {
            "_model_module": "@jupyter-widgets/base",
            "_model_module_version": "1.2.0",
            "_model_name": "LayoutModel",
            "_view_count": null,
            "_view_module": "@jupyter-widgets/base",
            "_view_module_version": "1.2.0",
            "_view_name": "LayoutView",
            "align_content": null,
            "align_items": null,
            "align_self": null,
            "border": null,
            "bottom": null,
            "display": null,
            "flex": null,
            "flex_flow": null,
            "grid_area": null,
            "grid_auto_columns": null,
            "grid_auto_flow": null,
            "grid_auto_rows": null,
            "grid_column": null,
            "grid_gap": null,
            "grid_row": null,
            "grid_template_areas": null,
            "grid_template_columns": null,
            "grid_template_rows": null,
            "height": null,
            "justify_content": null,
            "justify_items": null,
            "left": null,
            "margin": null,
            "max_height": null,
            "max_width": null,
            "min_height": null,
            "min_width": null,
            "object_fit": null,
            "object_position": null,
            "order": null,
            "overflow": null,
            "overflow_x": null,
            "overflow_y": null,
            "padding": null,
            "right": null,
            "top": null,
            "visibility": null,
            "width": null
          }
        },
        "dc279877d1ed4bd39daa88673cac1988": {
          "model_module": "@jupyter-widgets/controls",
          "model_name": "DescriptionStyleModel",
          "model_module_version": "1.5.0",
          "state": {
            "_model_module": "@jupyter-widgets/controls",
            "_model_module_version": "1.5.0",
            "_model_name": "DescriptionStyleModel",
            "_view_count": null,
            "_view_module": "@jupyter-widgets/base",
            "_view_module_version": "1.2.0",
            "_view_name": "StyleView",
            "description_width": ""
          }
        },
        "f68c4d3e7d0c467388b3d27182c553b7": {
          "model_module": "@jupyter-widgets/base",
          "model_name": "LayoutModel",
          "model_module_version": "1.2.0",
          "state": {
            "_model_module": "@jupyter-widgets/base",
            "_model_module_version": "1.2.0",
            "_model_name": "LayoutModel",
            "_view_count": null,
            "_view_module": "@jupyter-widgets/base",
            "_view_module_version": "1.2.0",
            "_view_name": "LayoutView",
            "align_content": null,
            "align_items": null,
            "align_self": null,
            "border": null,
            "bottom": null,
            "display": null,
            "flex": null,
            "flex_flow": null,
            "grid_area": null,
            "grid_auto_columns": null,
            "grid_auto_flow": null,
            "grid_auto_rows": null,
            "grid_column": null,
            "grid_gap": null,
            "grid_row": null,
            "grid_template_areas": null,
            "grid_template_columns": null,
            "grid_template_rows": null,
            "height": null,
            "justify_content": null,
            "justify_items": null,
            "left": null,
            "margin": null,
            "max_height": null,
            "max_width": null,
            "min_height": null,
            "min_width": null,
            "object_fit": null,
            "object_position": null,
            "order": null,
            "overflow": null,
            "overflow_x": null,
            "overflow_y": null,
            "padding": null,
            "right": null,
            "top": null,
            "visibility": null,
            "width": null
          }
        },
        "c087afd1162d41b08b15cce16d2e4e46": {
          "model_module": "@jupyter-widgets/controls",
          "model_name": "ProgressStyleModel",
          "model_module_version": "1.5.0",
          "state": {
            "_model_module": "@jupyter-widgets/controls",
            "_model_module_version": "1.5.0",
            "_model_name": "ProgressStyleModel",
            "_view_count": null,
            "_view_module": "@jupyter-widgets/base",
            "_view_module_version": "1.2.0",
            "_view_name": "StyleView",
            "bar_color": null,
            "description_width": ""
          }
        },
        "0c0fee1270064c60a340748d6e00b368": {
          "model_module": "@jupyter-widgets/base",
          "model_name": "LayoutModel",
          "model_module_version": "1.2.0",
          "state": {
            "_model_module": "@jupyter-widgets/base",
            "_model_module_version": "1.2.0",
            "_model_name": "LayoutModel",
            "_view_count": null,
            "_view_module": "@jupyter-widgets/base",
            "_view_module_version": "1.2.0",
            "_view_name": "LayoutView",
            "align_content": null,
            "align_items": null,
            "align_self": null,
            "border": null,
            "bottom": null,
            "display": null,
            "flex": null,
            "flex_flow": null,
            "grid_area": null,
            "grid_auto_columns": null,
            "grid_auto_flow": null,
            "grid_auto_rows": null,
            "grid_column": null,
            "grid_gap": null,
            "grid_row": null,
            "grid_template_areas": null,
            "grid_template_columns": null,
            "grid_template_rows": null,
            "height": null,
            "justify_content": null,
            "justify_items": null,
            "left": null,
            "margin": null,
            "max_height": null,
            "max_width": null,
            "min_height": null,
            "min_width": null,
            "object_fit": null,
            "object_position": null,
            "order": null,
            "overflow": null,
            "overflow_x": null,
            "overflow_y": null,
            "padding": null,
            "right": null,
            "top": null,
            "visibility": null,
            "width": null
          }
        },
        "d8d76b51b5e24c7783b3c7a8499b5853": {
          "model_module": "@jupyter-widgets/controls",
          "model_name": "DescriptionStyleModel",
          "model_module_version": "1.5.0",
          "state": {
            "_model_module": "@jupyter-widgets/controls",
            "_model_module_version": "1.5.0",
            "_model_name": "DescriptionStyleModel",
            "_view_count": null,
            "_view_module": "@jupyter-widgets/base",
            "_view_module_version": "1.2.0",
            "_view_name": "StyleView",
            "description_width": ""
          }
        }
      }
    }
  },
  "cells": [
    {
      "cell_type": "code",
      "source": [
        "from google.colab import drive\n",
        "drive.mount(\"/content/drive\", force_remount=True)"
      ],
      "metadata": {
        "colab": {
          "base_uri": "https://localhost:8080/"
        },
        "id": "2AL_NArYQ1DR",
        "outputId": "119bd9fb-1efd-4d7e-dbcf-42dd0305d51c"
      },
      "execution_count": null,
      "outputs": [
        {
          "output_type": "stream",
          "name": "stdout",
          "text": [
            "Mounted at /content/drive\n"
          ]
        }
      ]
    },
    {
      "cell_type": "code",
      "source": [
        "!cp  /content/drive/MyDrive/WiLi_2018_wikipedia_dataset.zip .\n",
        "!unzip WiLi_2018_wikipedia_dataset.zip\n",
        "!mv dataset.csv WiLi_2018_wikipedia_dataset.csv\n",
        "!rm WiLi_2018_wikipedia_dataset.zip"
      ],
      "metadata": {
        "colab": {
          "base_uri": "https://localhost:8080/"
        },
        "id": "4rARbOhWROic",
        "outputId": "3bbd7b4a-cb79-4665-fd80-725e5944e00e"
      },
      "execution_count": null,
      "outputs": [
        {
          "output_type": "stream",
          "name": "stdout",
          "text": [
            "Archive:  WiLi_2018_wikipedia_dataset.zip\n",
            "  inflating: dataset.csv             \n"
          ]
        }
      ]
    },
    {
      "cell_type": "code",
      "source": [
        "!pip install transformers"
      ],
      "metadata": {
        "colab": {
          "base_uri": "https://localhost:8080/"
        },
        "id": "kWANHnb4ki9J",
        "outputId": "32204dc3-a03a-478b-e1b6-a939af912c85"
      },
      "execution_count": null,
      "outputs": [
        {
          "output_type": "stream",
          "name": "stdout",
          "text": [
            "Collecting transformers\n",
            "  Downloading transformers-4.32.1-py3-none-any.whl (7.5 MB)\n",
            "\u001b[2K     \u001b[90m━━━━━━━━━━━━━━━━━━━━━━━━━━━━━━━━━━━━━━━━\u001b[0m \u001b[32m7.5/7.5 MB\u001b[0m \u001b[31m12.0 MB/s\u001b[0m eta \u001b[36m0:00:00\u001b[0m\n",
            "\u001b[?25hRequirement already satisfied: filelock in /usr/local/lib/python3.10/dist-packages (from transformers) (3.12.2)\n",
            "Collecting huggingface-hub<1.0,>=0.15.1 (from transformers)\n",
            "  Downloading huggingface_hub-0.16.4-py3-none-any.whl (268 kB)\n",
            "\u001b[2K     \u001b[90m━━━━━━━━━━━━━━━━━━━━━━━━━━━━━━━━━━━━━━\u001b[0m \u001b[32m268.8/268.8 kB\u001b[0m \u001b[31m25.1 MB/s\u001b[0m eta \u001b[36m0:00:00\u001b[0m\n",
            "\u001b[?25hRequirement already satisfied: numpy>=1.17 in /usr/local/lib/python3.10/dist-packages (from transformers) (1.23.5)\n",
            "Requirement already satisfied: packaging>=20.0 in /usr/local/lib/python3.10/dist-packages (from transformers) (23.1)\n",
            "Requirement already satisfied: pyyaml>=5.1 in /usr/local/lib/python3.10/dist-packages (from transformers) (6.0.1)\n",
            "Requirement already satisfied: regex!=2019.12.17 in /usr/local/lib/python3.10/dist-packages (from transformers) (2023.6.3)\n",
            "Requirement already satisfied: requests in /usr/local/lib/python3.10/dist-packages (from transformers) (2.31.0)\n",
            "Collecting tokenizers!=0.11.3,<0.14,>=0.11.1 (from transformers)\n",
            "  Downloading tokenizers-0.13.3-cp310-cp310-manylinux_2_17_x86_64.manylinux2014_x86_64.whl (7.8 MB)\n",
            "\u001b[2K     \u001b[90m━━━━━━━━━━━━━━━━━━━━━━━━━━━━━━━━━━━━━━━━\u001b[0m \u001b[32m7.8/7.8 MB\u001b[0m \u001b[31m29.0 MB/s\u001b[0m eta \u001b[36m0:00:00\u001b[0m\n",
            "\u001b[?25hCollecting safetensors>=0.3.1 (from transformers)\n",
            "  Downloading safetensors-0.3.3-cp310-cp310-manylinux_2_17_x86_64.manylinux2014_x86_64.whl (1.3 MB)\n",
            "\u001b[2K     \u001b[90m━━━━━━━━━━━━━━━━━━━━━━━━━━━━━━━━━━━━━━━━\u001b[0m \u001b[32m1.3/1.3 MB\u001b[0m \u001b[31m40.1 MB/s\u001b[0m eta \u001b[36m0:00:00\u001b[0m\n",
            "\u001b[?25hRequirement already satisfied: tqdm>=4.27 in /usr/local/lib/python3.10/dist-packages (from transformers) (4.66.1)\n",
            "Requirement already satisfied: fsspec in /usr/local/lib/python3.10/dist-packages (from huggingface-hub<1.0,>=0.15.1->transformers) (2023.6.0)\n",
            "Requirement already satisfied: typing-extensions>=3.7.4.3 in /usr/local/lib/python3.10/dist-packages (from huggingface-hub<1.0,>=0.15.1->transformers) (4.7.1)\n",
            "Requirement already satisfied: charset-normalizer<4,>=2 in /usr/local/lib/python3.10/dist-packages (from requests->transformers) (3.2.0)\n",
            "Requirement already satisfied: idna<4,>=2.5 in /usr/local/lib/python3.10/dist-packages (from requests->transformers) (3.4)\n",
            "Requirement already satisfied: urllib3<3,>=1.21.1 in /usr/local/lib/python3.10/dist-packages (from requests->transformers) (2.0.4)\n",
            "Requirement already satisfied: certifi>=2017.4.17 in /usr/local/lib/python3.10/dist-packages (from requests->transformers) (2023.7.22)\n",
            "Installing collected packages: tokenizers, safetensors, huggingface-hub, transformers\n",
            "Successfully installed huggingface-hub-0.16.4 safetensors-0.3.3 tokenizers-0.13.3 transformers-4.32.1\n"
          ]
        }
      ]
    },
    {
      "cell_type": "code",
      "execution_count": null,
      "metadata": {
        "id": "dOrTolipQiBF"
      },
      "outputs": [],
      "source": [
        "# basic libraries\n",
        "import os\n",
        "import re\n",
        "import pickle\n",
        "import numpy as np\n",
        "import pandas as pd\n",
        "import warnings\n",
        "warnings.filterwarnings('ignore')\n",
        "from tqdm import tqdm\n",
        "\n",
        "# visualization tools\n",
        "import matplotlib.pyplot as plt\n",
        "import seaborn as sns\n",
        "from wordcloud import WordCloud\n",
        "\n",
        "# preprocessing tools\n",
        "from sklearn.model_selection import train_test_split\n",
        "from sklearn.feature_extraction.text import TfidfVectorizer\n",
        "from sklearn.preprocessing import LabelEncoder\n",
        "\n",
        "# model building tools\n",
        "from sklearn.naive_bayes import MultinomialNB\n",
        "from sklearn.pipeline import Pipeline\n",
        "\n",
        "import pandas as pd\n",
        "import numpy as np\n",
        "import torch\n",
        "import torch.nn as nn\n",
        "from transformers import BertTokenizer, BertForSequenceClassification, AdamW\n",
        "from torch.utils.data import DataLoader, TensorDataset\n",
        "from sklearn.metrics import classification_report, accuracy_score"
      ]
    },
    {
      "cell_type": "markdown",
      "source": [
        "## Wiki dataset 22"
      ],
      "metadata": {
        "id": "Ue_kkmBXmL4Z"
      }
    },
    {
      "cell_type": "code",
      "source": [
        "# set directories\n",
        "input_dir = './'\n",
        "working_dir = './'\n",
        "data = pd.read_csv('WiLi_2018_wikipedia_dataset.csv')\n",
        "data.columns = ('text','language')\n",
        "data.head()\n",
        "len(data)"
      ],
      "metadata": {
        "colab": {
          "base_uri": "https://localhost:8080/"
        },
        "id": "T5GT-6GkmKV6",
        "outputId": "4fc7cbcb-7613-41d1-c7c0-0df3d64a6f01"
      },
      "execution_count": null,
      "outputs": [
        {
          "output_type": "execute_result",
          "data": {
            "text/plain": [
              "22000"
            ]
          },
          "metadata": {},
          "execution_count": 5
        }
      ]
    },
    {
      "cell_type": "code",
      "source": [
        "data"
      ],
      "metadata": {
        "colab": {
          "base_uri": "https://localhost:8080/",
          "height": 424
        },
        "id": "6nJCk4dioGPf",
        "outputId": "e5393442-755e-45b1-8062-a78df1cf979c"
      },
      "execution_count": null,
      "outputs": [
        {
          "output_type": "execute_result",
          "data": {
            "text/plain": [
              "                                                    text  language\n",
              "0      klement gottwaldi surnukeha palsameeriti ning ...  Estonian\n",
              "1      sebes joseph pereira thomas  på eng the jesuit...   Swedish\n",
              "2      ถนนเจริญกรุง อักษรโรมัน thanon charoen krung เ...      Thai\n",
              "3      விசாகப்பட்டினம் தமிழ்ச்சங்கத்தை இந்துப் பத்திர...     Tamil\n",
              "4      de spons behoort tot het geslacht haliclona en...     Dutch\n",
              "...                                                  ...       ...\n",
              "21995  hors du terrain les années  et  sont des année...    French\n",
              "21996  ใน พศ  หลักจากที่เสด็จประพาสแหลมมลายู ชวา อินเ...      Thai\n",
              "21997  con motivo de la celebración del septuagésimoq...   Spanish\n",
              "21998  年月，當時還只有歲的她在美國出道，以mai-k名義推出首張英文《baby i like》，由...   Chinese\n",
              "21999   aprilie sonda spațială messenger a nasa și-a ...  Romanian\n",
              "\n",
              "[22000 rows x 2 columns]"
            ],
            "text/html": [
              "\n",
              "  <div id=\"df-6f17783f-e2c1-413a-be1f-f4255ac95230\" class=\"colab-df-container\">\n",
              "    <div>\n",
              "<style scoped>\n",
              "    .dataframe tbody tr th:only-of-type {\n",
              "        vertical-align: middle;\n",
              "    }\n",
              "\n",
              "    .dataframe tbody tr th {\n",
              "        vertical-align: top;\n",
              "    }\n",
              "\n",
              "    .dataframe thead th {\n",
              "        text-align: right;\n",
              "    }\n",
              "</style>\n",
              "<table border=\"1\" class=\"dataframe\">\n",
              "  <thead>\n",
              "    <tr style=\"text-align: right;\">\n",
              "      <th></th>\n",
              "      <th>text</th>\n",
              "      <th>language</th>\n",
              "    </tr>\n",
              "  </thead>\n",
              "  <tbody>\n",
              "    <tr>\n",
              "      <th>0</th>\n",
              "      <td>klement gottwaldi surnukeha palsameeriti ning ...</td>\n",
              "      <td>Estonian</td>\n",
              "    </tr>\n",
              "    <tr>\n",
              "      <th>1</th>\n",
              "      <td>sebes joseph pereira thomas  på eng the jesuit...</td>\n",
              "      <td>Swedish</td>\n",
              "    </tr>\n",
              "    <tr>\n",
              "      <th>2</th>\n",
              "      <td>ถนนเจริญกรุง อักษรโรมัน thanon charoen krung เ...</td>\n",
              "      <td>Thai</td>\n",
              "    </tr>\n",
              "    <tr>\n",
              "      <th>3</th>\n",
              "      <td>விசாகப்பட்டினம் தமிழ்ச்சங்கத்தை இந்துப் பத்திர...</td>\n",
              "      <td>Tamil</td>\n",
              "    </tr>\n",
              "    <tr>\n",
              "      <th>4</th>\n",
              "      <td>de spons behoort tot het geslacht haliclona en...</td>\n",
              "      <td>Dutch</td>\n",
              "    </tr>\n",
              "    <tr>\n",
              "      <th>...</th>\n",
              "      <td>...</td>\n",
              "      <td>...</td>\n",
              "    </tr>\n",
              "    <tr>\n",
              "      <th>21995</th>\n",
              "      <td>hors du terrain les années  et  sont des année...</td>\n",
              "      <td>French</td>\n",
              "    </tr>\n",
              "    <tr>\n",
              "      <th>21996</th>\n",
              "      <td>ใน พศ  หลักจากที่เสด็จประพาสแหลมมลายู ชวา อินเ...</td>\n",
              "      <td>Thai</td>\n",
              "    </tr>\n",
              "    <tr>\n",
              "      <th>21997</th>\n",
              "      <td>con motivo de la celebración del septuagésimoq...</td>\n",
              "      <td>Spanish</td>\n",
              "    </tr>\n",
              "    <tr>\n",
              "      <th>21998</th>\n",
              "      <td>年月，當時還只有歲的她在美國出道，以mai-k名義推出首張英文《baby i like》，由...</td>\n",
              "      <td>Chinese</td>\n",
              "    </tr>\n",
              "    <tr>\n",
              "      <th>21999</th>\n",
              "      <td>aprilie sonda spațială messenger a nasa și-a ...</td>\n",
              "      <td>Romanian</td>\n",
              "    </tr>\n",
              "  </tbody>\n",
              "</table>\n",
              "<p>22000 rows × 2 columns</p>\n",
              "</div>\n",
              "    <div class=\"colab-df-buttons\">\n",
              "\n",
              "  <div class=\"colab-df-container\">\n",
              "    <button class=\"colab-df-convert\" onclick=\"convertToInteractive('df-6f17783f-e2c1-413a-be1f-f4255ac95230')\"\n",
              "            title=\"Convert this dataframe to an interactive table.\"\n",
              "            style=\"display:none;\">\n",
              "\n",
              "  <svg xmlns=\"http://www.w3.org/2000/svg\" height=\"24px\" viewBox=\"0 -960 960 960\">\n",
              "    <path d=\"M120-120v-720h720v720H120Zm60-500h600v-160H180v160Zm220 220h160v-160H400v160Zm0 220h160v-160H400v160ZM180-400h160v-160H180v160Zm440 0h160v-160H620v160ZM180-180h160v-160H180v160Zm440 0h160v-160H620v160Z\"/>\n",
              "  </svg>\n",
              "    </button>\n",
              "\n",
              "  <style>\n",
              "    .colab-df-container {\n",
              "      display:flex;\n",
              "      gap: 12px;\n",
              "    }\n",
              "\n",
              "    .colab-df-convert {\n",
              "      background-color: #E8F0FE;\n",
              "      border: none;\n",
              "      border-radius: 50%;\n",
              "      cursor: pointer;\n",
              "      display: none;\n",
              "      fill: #1967D2;\n",
              "      height: 32px;\n",
              "      padding: 0 0 0 0;\n",
              "      width: 32px;\n",
              "    }\n",
              "\n",
              "    .colab-df-convert:hover {\n",
              "      background-color: #E2EBFA;\n",
              "      box-shadow: 0px 1px 2px rgba(60, 64, 67, 0.3), 0px 1px 3px 1px rgba(60, 64, 67, 0.15);\n",
              "      fill: #174EA6;\n",
              "    }\n",
              "\n",
              "    .colab-df-buttons div {\n",
              "      margin-bottom: 4px;\n",
              "    }\n",
              "\n",
              "    [theme=dark] .colab-df-convert {\n",
              "      background-color: #3B4455;\n",
              "      fill: #D2E3FC;\n",
              "    }\n",
              "\n",
              "    [theme=dark] .colab-df-convert:hover {\n",
              "      background-color: #434B5C;\n",
              "      box-shadow: 0px 1px 3px 1px rgba(0, 0, 0, 0.15);\n",
              "      filter: drop-shadow(0px 1px 2px rgba(0, 0, 0, 0.3));\n",
              "      fill: #FFFFFF;\n",
              "    }\n",
              "  </style>\n",
              "\n",
              "    <script>\n",
              "      const buttonEl =\n",
              "        document.querySelector('#df-6f17783f-e2c1-413a-be1f-f4255ac95230 button.colab-df-convert');\n",
              "      buttonEl.style.display =\n",
              "        google.colab.kernel.accessAllowed ? 'block' : 'none';\n",
              "\n",
              "      async function convertToInteractive(key) {\n",
              "        const element = document.querySelector('#df-6f17783f-e2c1-413a-be1f-f4255ac95230');\n",
              "        const dataTable =\n",
              "          await google.colab.kernel.invokeFunction('convertToInteractive',\n",
              "                                                    [key], {});\n",
              "        if (!dataTable) return;\n",
              "\n",
              "        const docLinkHtml = 'Like what you see? Visit the ' +\n",
              "          '<a target=\"_blank\" href=https://colab.research.google.com/notebooks/data_table.ipynb>data table notebook</a>'\n",
              "          + ' to learn more about interactive tables.';\n",
              "        element.innerHTML = '';\n",
              "        dataTable['output_type'] = 'display_data';\n",
              "        await google.colab.output.renderOutput(dataTable, element);\n",
              "        const docLink = document.createElement('div');\n",
              "        docLink.innerHTML = docLinkHtml;\n",
              "        element.appendChild(docLink);\n",
              "      }\n",
              "    </script>\n",
              "  </div>\n",
              "\n",
              "\n",
              "<div id=\"df-075838c2-f53a-4d03-8aca-332d47b132c2\">\n",
              "  <button class=\"colab-df-quickchart\" onclick=\"quickchart('df-075838c2-f53a-4d03-8aca-332d47b132c2')\"\n",
              "            title=\"Suggest charts.\"\n",
              "            style=\"display:none;\">\n",
              "\n",
              "<svg xmlns=\"http://www.w3.org/2000/svg\" height=\"24px\"viewBox=\"0 0 24 24\"\n",
              "     width=\"24px\">\n",
              "    <g>\n",
              "        <path d=\"M19 3H5c-1.1 0-2 .9-2 2v14c0 1.1.9 2 2 2h14c1.1 0 2-.9 2-2V5c0-1.1-.9-2-2-2zM9 17H7v-7h2v7zm4 0h-2V7h2v10zm4 0h-2v-4h2v4z\"/>\n",
              "    </g>\n",
              "</svg>\n",
              "  </button>\n",
              "\n",
              "<style>\n",
              "  .colab-df-quickchart {\n",
              "      --bg-color: #E8F0FE;\n",
              "      --fill-color: #1967D2;\n",
              "      --hover-bg-color: #E2EBFA;\n",
              "      --hover-fill-color: #174EA6;\n",
              "      --disabled-fill-color: #AAA;\n",
              "      --disabled-bg-color: #DDD;\n",
              "  }\n",
              "\n",
              "  [theme=dark] .colab-df-quickchart {\n",
              "      --bg-color: #3B4455;\n",
              "      --fill-color: #D2E3FC;\n",
              "      --hover-bg-color: #434B5C;\n",
              "      --hover-fill-color: #FFFFFF;\n",
              "      --disabled-bg-color: #3B4455;\n",
              "      --disabled-fill-color: #666;\n",
              "  }\n",
              "\n",
              "  .colab-df-quickchart {\n",
              "    background-color: var(--bg-color);\n",
              "    border: none;\n",
              "    border-radius: 50%;\n",
              "    cursor: pointer;\n",
              "    display: none;\n",
              "    fill: var(--fill-color);\n",
              "    height: 32px;\n",
              "    padding: 0;\n",
              "    width: 32px;\n",
              "  }\n",
              "\n",
              "  .colab-df-quickchart:hover {\n",
              "    background-color: var(--hover-bg-color);\n",
              "    box-shadow: 0 1px 2px rgba(60, 64, 67, 0.3), 0 1px 3px 1px rgba(60, 64, 67, 0.15);\n",
              "    fill: var(--button-hover-fill-color);\n",
              "  }\n",
              "\n",
              "  .colab-df-quickchart-complete:disabled,\n",
              "  .colab-df-quickchart-complete:disabled:hover {\n",
              "    background-color: var(--disabled-bg-color);\n",
              "    fill: var(--disabled-fill-color);\n",
              "    box-shadow: none;\n",
              "  }\n",
              "\n",
              "  .colab-df-spinner {\n",
              "    border: 2px solid var(--fill-color);\n",
              "    border-color: transparent;\n",
              "    border-bottom-color: var(--fill-color);\n",
              "    animation:\n",
              "      spin 1s steps(1) infinite;\n",
              "  }\n",
              "\n",
              "  @keyframes spin {\n",
              "    0% {\n",
              "      border-color: transparent;\n",
              "      border-bottom-color: var(--fill-color);\n",
              "      border-left-color: var(--fill-color);\n",
              "    }\n",
              "    20% {\n",
              "      border-color: transparent;\n",
              "      border-left-color: var(--fill-color);\n",
              "      border-top-color: var(--fill-color);\n",
              "    }\n",
              "    30% {\n",
              "      border-color: transparent;\n",
              "      border-left-color: var(--fill-color);\n",
              "      border-top-color: var(--fill-color);\n",
              "      border-right-color: var(--fill-color);\n",
              "    }\n",
              "    40% {\n",
              "      border-color: transparent;\n",
              "      border-right-color: var(--fill-color);\n",
              "      border-top-color: var(--fill-color);\n",
              "    }\n",
              "    60% {\n",
              "      border-color: transparent;\n",
              "      border-right-color: var(--fill-color);\n",
              "    }\n",
              "    80% {\n",
              "      border-color: transparent;\n",
              "      border-right-color: var(--fill-color);\n",
              "      border-bottom-color: var(--fill-color);\n",
              "    }\n",
              "    90% {\n",
              "      border-color: transparent;\n",
              "      border-bottom-color: var(--fill-color);\n",
              "    }\n",
              "  }\n",
              "</style>\n",
              "\n",
              "  <script>\n",
              "    async function quickchart(key) {\n",
              "      const quickchartButtonEl =\n",
              "        document.querySelector('#' + key + ' button');\n",
              "      quickchartButtonEl.disabled = true;  // To prevent multiple clicks.\n",
              "      quickchartButtonEl.classList.add('colab-df-spinner');\n",
              "      try {\n",
              "        const charts = await google.colab.kernel.invokeFunction(\n",
              "            'suggestCharts', [key], {});\n",
              "      } catch (error) {\n",
              "        console.error('Error during call to suggestCharts:', error);\n",
              "      }\n",
              "      quickchartButtonEl.classList.remove('colab-df-spinner');\n",
              "      quickchartButtonEl.classList.add('colab-df-quickchart-complete');\n",
              "    }\n",
              "    (() => {\n",
              "      let quickchartButtonEl =\n",
              "        document.querySelector('#df-075838c2-f53a-4d03-8aca-332d47b132c2 button');\n",
              "      quickchartButtonEl.style.display =\n",
              "        google.colab.kernel.accessAllowed ? 'block' : 'none';\n",
              "    })();\n",
              "  </script>\n",
              "</div>\n",
              "    </div>\n",
              "  </div>\n"
            ]
          },
          "metadata": {},
          "execution_count": 6
        }
      ]
    },
    {
      "cell_type": "markdown",
      "source": [
        "## All dataset 455"
      ],
      "metadata": {
        "id": "RTy1mz9wmCbI"
      }
    },
    {
      "cell_type": "code",
      "source": [
        "# set directories\n",
        "input_dir = './'\n",
        "working_dir = './'\n",
        "# data = pd.read_csv('WiLi_2018_wikipedia_dataset.csv')\n",
        "data = pd.read_feather('/content/drive/MyDrive/final_dataset.feather')\n",
        "data.columns = ('text','language')\n",
        "data.head()\n",
        "len(data)"
      ],
      "metadata": {
        "id": "kb54pvu1Qqn8",
        "colab": {
          "base_uri": "https://localhost:8080/"
        },
        "outputId": "8d9c4d88-c0c9-4d2b-8451-251d84d0d666"
      },
      "execution_count": null,
      "outputs": [
        {
          "output_type": "execute_result",
          "data": {
            "text/plain": [
              "11123049"
            ]
          },
          "metadata": {},
          "execution_count": 71
        }
      ]
    },
    {
      "cell_type": "markdown",
      "source": [
        "## Flores dataset"
      ],
      "metadata": {
        "id": "pswzy3bkmFb0"
      }
    },
    {
      "cell_type": "code",
      "source": [
        "# set directories\n",
        "input_dir = './'\n",
        "working_dir = './'\n",
        "# data = pd.read_csv('WiLi_2018_wikipedia_dataset.csv')\n",
        "data = pd.read_feather('/content/drive/MyDrive/flores_dataset.feather')\n",
        "data.columns = ('text','language')\n",
        "data.head()\n",
        "len(data)"
      ],
      "metadata": {
        "colab": {
          "base_uri": "https://localhost:8080/"
        },
        "id": "lN-RkV4wmPVz",
        "outputId": "c6f3a9ee-d2c5-4b4a-d900-d3eea3f4b0b6"
      },
      "execution_count": null,
      "outputs": [
        {
          "output_type": "execute_result",
          "data": {
            "text/plain": [
              "202391"
            ]
          },
          "metadata": {},
          "execution_count": 13
        }
      ]
    },
    {
      "cell_type": "code",
      "source": [
        "# Calculate the total number of languages\n",
        "total_languages = sum(len(languages) for languages in language_groups.values())\n",
        "\n",
        "print(f\"Total number of languages: {total_languages}\")"
      ],
      "metadata": {
        "colab": {
          "base_uri": "https://localhost:8080/"
        },
        "id": "IfrCVooZq-Kp",
        "outputId": "0d63eb6f-6c1f-4f42-b3f6-0ab4bffae4e8"
      },
      "execution_count": null,
      "outputs": [
        {
          "output_type": "stream",
          "name": "stdout",
          "text": [
            "Total number of languages: 152\n"
          ]
        }
      ]
    },
    {
      "cell_type": "markdown",
      "source": [],
      "metadata": {
        "id": "ZBNUPUsfmHmV"
      }
    },
    {
      "cell_type": "markdown",
      "source": [
        "## Preprocessing"
      ],
      "metadata": {
        "id": "rxFP-cqqmR2h"
      }
    },
    {
      "cell_type": "code",
      "source": [
        "x_train, x_test, y_train, y_test = train_test_split(data.text.values, data.language.values, test_size=0.2, random_state=42)\n",
        "x_train.shape, y_train.shape, x_test.shape, y_test.shape"
      ],
      "metadata": {
        "colab": {
          "base_uri": "https://localhost:8080/"
        },
        "id": "jvmxjU-QRh4n",
        "outputId": "fe4aaffa-548e-4c35-9bba-df6ed6525e07"
      },
      "execution_count": null,
      "outputs": [
        {
          "output_type": "execute_result",
          "data": {
            "text/plain": [
              "((161912,), (161912,), (40479,), (40479,))"
            ]
          },
          "metadata": {},
          "execution_count": 14
        }
      ]
    },
    {
      "cell_type": "code",
      "source": [
        "# number of texts for each language:\n",
        "print(f\"Number of languages: {len(data.language.value_counts())}\\n\")\n",
        "# print(f\"Number of data points of individual languages:\\n{data.language.value_counts()}\")"
      ],
      "metadata": {
        "colab": {
          "base_uri": "https://localhost:8080/"
        },
        "id": "LIXpoXtBRn5U",
        "outputId": "ae0a38b5-0f65-4a31-9215-bd6977fb7fd3"
      },
      "execution_count": null,
      "outputs": [
        {
          "output_type": "stream",
          "name": "stdout",
          "text": [
            "Number of languages: 176\n",
            "\n"
          ]
        }
      ]
    },
    {
      "cell_type": "code",
      "source": [
        "# sentence length distribution over the entire dataset\n",
        "sent_lengths = [len(text.split()) for text in data.text.values]\n",
        "plt.subplots(1,2,figsize=(13,5))\n",
        "plt.suptitle('Sentence length distribution')\n",
        "bins=[0,25,50,75,100,125,150,175,200,225,250,275,300,325,350,375,400]\n",
        "plt.subplot(1,2,1)\n",
        "sns.histplot(sent_lengths, bins=bins)\n",
        "plt.subplot(1,2,2)\n",
        "sns.distplot(sent_lengths, bins=bins)\n",
        "plt.show()"
      ],
      "metadata": {
        "id": "a7YzbVSmRqud"
      },
      "execution_count": null,
      "outputs": []
    },
    {
      "cell_type": "code",
      "source": [
        "# function to clean text\n",
        "def clean_txt(text):\n",
        "    text=text.lower()\n",
        "    text=re.sub(r'[^\\w\\s]',' ',text)\n",
        "    text=re.sub(r'[_0-9]',' ',text)\n",
        "    text=re.sub(r'\\s\\s+',' ',text)\n",
        "    return text\n",
        "\n",
        "txt = 'my (&*(()))name %$#is harsh_priye'\n",
        "print(clean_txt(txt))"
      ],
      "metadata": {
        "colab": {
          "base_uri": "https://localhost:8080/"
        },
        "id": "PEao7ye-R05H",
        "outputId": "bc864370-1750-4cf1-84d0-f968bc1c2006"
      },
      "execution_count": null,
      "outputs": [
        {
          "output_type": "stream",
          "name": "stdout",
          "text": [
            "my name is harsh priye\n"
          ]
        }
      ]
    },
    {
      "cell_type": "markdown",
      "source": [
        "## Pretrained with freezing weights so only classifier is learned (not used)"
      ],
      "metadata": {
        "id": "3Zv-7RDnmfkX"
      }
    },
    {
      "cell_type": "markdown",
      "source": [
        "This model even if potentially can prduce good results, requires more computational resources"
      ],
      "metadata": {
        "id": "CHflrpLkSecJ"
      }
    },
    {
      "cell_type": "code",
      "source": [
        "tokenizer = BertTokenizer.from_pretrained('bert-base-multilingual-cased')\n",
        "\n",
        "\n",
        "x_train_tokens = tokenizer(list(x_train), padding=True, truncation=True, return_tensors='pt', max_length=128)\n",
        "x_test_tokens = tokenizer(list(x_test), padding=True, truncation=True, return_tensors='pt', max_length=128)\n",
        "\n",
        "\n",
        "label_encoder = LabelEncoder()\n",
        "y_train_encoded = label_encoder.fit_transform(y_train)\n",
        "y_test_encoded = label_encoder.transform(y_test)\n",
        "\n",
        "\n",
        "y_train_tensor = torch.tensor(y_train_encoded, dtype=torch.long)\n",
        "y_test_tensor = torch.tensor(y_test_encoded, dtype=torch.long)\n",
        "\n",
        "\n",
        "train_dataset = TensorDataset(x_train_tokens['input_ids'], x_train_tokens['attention_mask'], y_train_tensor)\n",
        "test_dataset = TensorDataset(x_test_tokens['input_ids'], x_test_tokens['attention_mask'], y_test_tensor)\n",
        "\n",
        "\n",
        "batch_size = 32\n",
        "train_loader = DataLoader(train_dataset, batch_size=batch_size, shuffle=True)\n",
        "test_loader = DataLoader(test_dataset, batch_size=batch_size)\n",
        "\n",
        "model = BertForSequenceClassification.from_pretrained('bert-base-multilingual-cased', num_labels=len(label_encoder.classes_))\n",
        "\n",
        "\n",
        "for param in model.bert.parameters():\n",
        "    param.requires_grad = False\n",
        "\n",
        "\n",
        "optimizer = AdamW(model.classifier.parameters(), lr=2e-5)\n",
        "\n",
        "criterion = nn.CrossEntropyLoss()\n",
        "\n",
        "num_epochs = 2\n",
        "device = torch.device(\"cuda\" if torch.cuda.is_available() else \"cpu\")\n",
        "model.to(device)"
      ],
      "metadata": {
        "colab": {
          "base_uri": "https://localhost:8080/"
        },
        "id": "ONsbRDE4jomu",
        "outputId": "2ca5b6b3-99a6-4ce5-f811-81813dc2237e"
      },
      "execution_count": null,
      "outputs": [
        {
          "output_type": "stream",
          "name": "stderr",
          "text": [
            "Some weights of BertForSequenceClassification were not initialized from the model checkpoint at bert-base-multilingual-cased and are newly initialized: ['classifier.weight', 'classifier.bias']\n",
            "You should probably TRAIN this model on a down-stream task to be able to use it for predictions and inference.\n"
          ]
        },
        {
          "output_type": "execute_result",
          "data": {
            "text/plain": [
              "BertForSequenceClassification(\n",
              "  (bert): BertModel(\n",
              "    (embeddings): BertEmbeddings(\n",
              "      (word_embeddings): Embedding(119547, 768, padding_idx=0)\n",
              "      (position_embeddings): Embedding(512, 768)\n",
              "      (token_type_embeddings): Embedding(2, 768)\n",
              "      (LayerNorm): LayerNorm((768,), eps=1e-12, elementwise_affine=True)\n",
              "      (dropout): Dropout(p=0.1, inplace=False)\n",
              "    )\n",
              "    (encoder): BertEncoder(\n",
              "      (layer): ModuleList(\n",
              "        (0-11): 12 x BertLayer(\n",
              "          (attention): BertAttention(\n",
              "            (self): BertSelfAttention(\n",
              "              (query): Linear(in_features=768, out_features=768, bias=True)\n",
              "              (key): Linear(in_features=768, out_features=768, bias=True)\n",
              "              (value): Linear(in_features=768, out_features=768, bias=True)\n",
              "              (dropout): Dropout(p=0.1, inplace=False)\n",
              "            )\n",
              "            (output): BertSelfOutput(\n",
              "              (dense): Linear(in_features=768, out_features=768, bias=True)\n",
              "              (LayerNorm): LayerNorm((768,), eps=1e-12, elementwise_affine=True)\n",
              "              (dropout): Dropout(p=0.1, inplace=False)\n",
              "            )\n",
              "          )\n",
              "          (intermediate): BertIntermediate(\n",
              "            (dense): Linear(in_features=768, out_features=3072, bias=True)\n",
              "            (intermediate_act_fn): GELUActivation()\n",
              "          )\n",
              "          (output): BertOutput(\n",
              "            (dense): Linear(in_features=3072, out_features=768, bias=True)\n",
              "            (LayerNorm): LayerNorm((768,), eps=1e-12, elementwise_affine=True)\n",
              "            (dropout): Dropout(p=0.1, inplace=False)\n",
              "          )\n",
              "        )\n",
              "      )\n",
              "    )\n",
              "    (pooler): BertPooler(\n",
              "      (dense): Linear(in_features=768, out_features=768, bias=True)\n",
              "      (activation): Tanh()\n",
              "    )\n",
              "  )\n",
              "  (dropout): Dropout(p=0.1, inplace=False)\n",
              "  (classifier): Linear(in_features=768, out_features=22, bias=True)\n",
              ")"
            ]
          },
          "metadata": {},
          "execution_count": 13
        }
      ]
    },
    {
      "cell_type": "code",
      "source": [
        "for epoch in range(num_epochs):\n",
        "    model.train()\n",
        "    total_loss = 0\n",
        "    for batch in train_loader:\n",
        "        input_ids, attention_mask, labels = batch\n",
        "        input_ids, attention_mask, labels = input_ids.to(device), attention_mask.to(device), labels.to(device)\n",
        "\n",
        "        optimizer.zero_grad()\n",
        "        outputs = model(input_ids, attention_mask=attention_mask, labels=labels)\n",
        "        loss = outputs.loss\n",
        "        total_loss += loss.item()\n",
        "\n",
        "        loss.backward()\n",
        "        optimizer.step()\n",
        "\n",
        "    avg_loss = total_loss / len(train_loader)\n",
        "    print(f\"Epoch {epoch + 1}/{num_epochs}, Loss: {avg_loss:.4f}\")\n",
        "\n",
        "\n",
        "model.eval()\n",
        "all_preds = []\n",
        "with torch.no_grad():\n",
        "    for batch in test_loader:\n",
        "        input_ids, attention_mask, labels = batch\n",
        "        input_ids, attention_mask, labels = input_ids.to(device), attention_mask.to(device), labels.to(device)\n",
        "        outputs = model(input_ids, attention_mask=attention_mask)\n",
        "        logits = outputs.logits\n",
        "        preds = torch.argmax(logits, dim=1).cpu().numpy()\n",
        "        all_preds.extend(preds)"
      ],
      "metadata": {
        "colab": {
          "base_uri": "https://localhost:8080/"
        },
        "id": "aic76d0hlRo3",
        "outputId": "c37c22b7-7630-418e-ddaf-d5231f516e0b"
      },
      "execution_count": null,
      "outputs": [
        {
          "output_type": "stream",
          "name": "stdout",
          "text": [
            "Epoch 1/2, Loss: 3.0530\n",
            "Epoch 2/2, Loss: 2.9815\n"
          ]
        }
      ]
    },
    {
      "cell_type": "code",
      "source": [
        "\n",
        "y_pred = label_encoder.inverse_transform(all_preds)\n",
        "accuracy = accuracy_score(y_test, y_pred)\n",
        "classification_rep = classification_report(y_test, y_pred)\n",
        "print(f\"Accuracy: {accuracy:.4f}\")\n",
        "print(classification_rep)"
      ],
      "metadata": {
        "colab": {
          "base_uri": "https://localhost:8080/"
        },
        "id": "DM24S_CPkdye",
        "outputId": "a71f58be-7ab8-45a0-eb91-b3e70617c8c8"
      },
      "execution_count": null,
      "outputs": [
        {
          "output_type": "stream",
          "name": "stdout",
          "text": [
            "Accuracy: 0.1264\n",
            "              precision    recall  f1-score   support\n",
            "\n",
            "      Arabic       0.15      0.35      0.21       113\n",
            "     Chinese       0.00      0.00      0.00       108\n",
            "       Dutch       0.00      0.00      0.00       110\n",
            "     English       0.08      0.75      0.14       102\n",
            "    Estonian       0.10      0.04      0.06        98\n",
            "      French       0.09      0.05      0.06       105\n",
            "       Hindi       1.00      0.01      0.02       112\n",
            "  Indonesian       0.00      0.00      0.00       102\n",
            "    Japanese       0.12      0.70      0.20        90\n",
            "      Korean       0.00      0.00      0.00        87\n",
            "       Latin       0.18      0.06      0.09       103\n",
            "     Persian       0.00      0.00      0.00       107\n",
            "   Portugese       0.00      0.00      0.00        98\n",
            "      Pushto       0.58      0.41      0.48       101\n",
            "    Romanian       0.00      0.00      0.00        98\n",
            "     Russian       0.09      0.09      0.09       110\n",
            "     Spanish       0.13      0.07      0.09        95\n",
            "     Swedish       0.58      0.26      0.35        86\n",
            "       Tamil       0.67      0.02      0.04        93\n",
            "        Thai       0.00      0.00      0.00        88\n",
            "     Turkish       0.00      0.00      0.00        97\n",
            "        Urdu       0.00      0.00      0.00        97\n",
            "\n",
            "    accuracy                           0.13      2200\n",
            "   macro avg       0.17      0.13      0.08      2200\n",
            "weighted avg       0.17      0.13      0.08      2200\n",
            "\n"
          ]
        }
      ]
    },
    {
      "cell_type": "code",
      "source": [
        "# Function to predict the language of a sentence\n",
        "def predict_language(sentence, model, label_encoder, device):\n",
        "    inputs = tokenizer(sentence, return_tensors='pt', padding=True, truncation=True, max_length=128)\n",
        "    model.eval()\n",
        "    inputs = {key: value.to(device) for key, value in inputs.items()}\n",
        "    with torch.no_grad():\n",
        "        logits = model(**inputs).logits\n",
        "    predicted_class = torch.argmax(logits, dim=1).item()\n",
        "    predicted_language = label_encoder.inverse_transform([predicted_class])[0]\n",
        "    return predicted_language\n",
        "\n",
        "sentence1 = \"This is a sample text.\"\n",
        "sentence2 = 'मेरा नाम हर्ष हे'\n",
        "\n",
        "device = torch.device(\"cuda\" if torch.cuda.is_available() else \"cpu\")\n",
        "model.to(device)\n",
        "\n",
        "predicted_language = predict_language(sentence1, model, label_encoder, device)\n",
        "print(f\"Predicted Language: {predicted_language}\")\n",
        "predicted_language = predict_language(sentence2, model, label_encoder, device)\n",
        "print(f\"Predicted Language: {predicted_language}\")"
      ],
      "metadata": {
        "colab": {
          "base_uri": "https://localhost:8080/"
        },
        "id": "sQOjWPuJt1uJ",
        "outputId": "a8e624dd-2fe1-47e9-da46-6b45cb4088c0"
      },
      "execution_count": null,
      "outputs": [
        {
          "output_type": "stream",
          "name": "stdout",
          "text": [
            "Predicted Language: English\n",
            "Predicted Language: English\n"
          ]
        }
      ]
    },
    {
      "cell_type": "markdown",
      "source": [
        "## Completely pretrained but a little finetune"
      ],
      "metadata": {
        "id": "C1XS79UXtVqB"
      }
    },
    {
      "cell_type": "code",
      "source": [
        "tokenizer = BertTokenizer.from_pretrained('bert-base-multilingual-cased')\n",
        "\n",
        "x_train_tokens = tokenizer(list(x_train), padding=True, truncation=True, return_tensors='pt', max_length=128)\n",
        "x_test_tokens = tokenizer(list(x_test), padding=True, truncation=True, return_tensors='pt', max_length=128)\n",
        "\n",
        "label_encoder = LabelEncoder()\n",
        "y_train_encoded = label_encoder.fit_transform(y_train)\n",
        "y_test_encoded = label_encoder.transform(y_test)\n",
        "\n",
        "y_train_tensor = torch.tensor(y_train_encoded, dtype=torch.long)\n",
        "y_test_tensor = torch.tensor(y_test_encoded, dtype=torch.long)\n",
        "\n",
        "train_dataset = TensorDataset(x_train_tokens['input_ids'], x_train_tokens['attention_mask'], y_train_tensor)\n",
        "test_dataset = TensorDataset(x_test_tokens['input_ids'], x_test_tokens['attention_mask'], y_test_tensor)\n",
        "\n",
        "batch_size = 32\n",
        "train_loader = DataLoader(train_dataset, batch_size=batch_size, shuffle=True)\n",
        "test_loader = DataLoader(test_dataset, batch_size=batch_size)\n",
        "\n",
        "model = BertForSequenceClassification.from_pretrained('bert-base-multilingual-cased', num_labels=len(label_encoder.classes_))\n",
        "\n",
        "optimizer = AdamW(model.parameters(), lr=2e-5)\n",
        "\n",
        "criterion = nn.CrossEntropyLoss()\n",
        "num_epochs = 2\n",
        "device = torch.device(\"cuda\" if torch.cuda.is_available() else \"cpu\")\n",
        "model.to(device)\n",
        "\n",
        "for epoch in range(num_epochs):\n",
        "    model.train()\n",
        "    total_loss = 0\n",
        "    for batch in train_loader:\n",
        "        input_ids, attention_mask, labels = batch\n",
        "        input_ids, attention_mask, labels = input_ids.to(device), attention_mask.to(device), labels.to(device)\n",
        "        optimizer.zero_grad()\n",
        "        outputs = model(input_ids, attention_mask=attention_mask, labels=labels)\n",
        "        loss = outputs.loss\n",
        "        total_loss += loss.item()\n",
        "        loss.backward()\n",
        "        optimizer.step()\n",
        "    avg_loss = total_loss / len(train_loader)\n",
        "    print(f\"Epoch {epoch + 1}/{num_epochs}, Loss: {avg_loss:.4f}\")\n",
        "\n",
        "model.eval()\n",
        "all_preds = []\n",
        "with torch.no_grad():\n",
        "    for batch in test_loader:\n",
        "        input_ids, attention_mask, labels = batch\n",
        "        input_ids, attention_mask, labels = input_ids.to(device), attention_mask.to(device), labels.to(device)\n",
        "        outputs = model(input_ids, attention_mask=attention_mask)\n",
        "        logits = outputs.logits\n",
        "        preds = torch.argmax(logits, dim=1).cpu().numpy()\n",
        "        all_preds.extend(preds)"
      ],
      "metadata": {
        "colab": {
          "base_uri": "https://localhost:8080/",
          "height": 214,
          "referenced_widgets": [
            "ec86525666504f9482554a9a5b00349c",
            "7845ea5462a247d6b309d43ee9e47100",
            "3ae77e25192d4adcbfd2258e5180e5ce",
            "293ddc89b6524ea39adb34792d037d3f",
            "6649a1677fc44b9fae87384fdc58a9b3",
            "b078b5b2c33f4be48e2df7714c5fdb5b",
            "3398a3c2ed0040ac9f8eff666fa06c24",
            "d243c58c91364fcd928cdcbf80cf3030",
            "0cd9a9704da247a3a675a45ef8b80787",
            "b8bb594249c84ee69e8d12cf3c142dfd",
            "048fd8030775442688828c930421d64b",
            "cfb5515cfb0640c6a4c71d2d166cdb55",
            "ab6844c7c8124757aa22cb4935cba7fc",
            "e9d1c351322346ba96c9456abbb2f102",
            "a8c04b9198cc4a919bbccae9ef1abe99",
            "4e36bcdf2a5c4e2690b18f88d3fe46a3",
            "38d0064d6ff54aed9abbae0f9a43935d",
            "5a5bd1380d2d4656884838863a5b778c",
            "08d34fe45f464572b01f4dfdeab84289",
            "b38e5846e9d84f219d09447b9cf6108c",
            "258f34fc9b0144b7b2394bdfb025c627",
            "5e25dc043cf84c8081096d9a05f378c3",
            "c17d2b4242e64c6894831bd3198f705a",
            "dd18bd56adc64ea98b551ccf6b45dbbe",
            "6723360acaf147b5a1a2f2267772f054",
            "4f4f113eae4544df9bcdc4264c19fb66",
            "2287a941dc8345ea9d84c677d2e10381",
            "06fef8af0f8f438d8402ae1aaf9dc01b",
            "a79fa41f0c734255a4ed7e3435a7f8a8",
            "239c1731342c4da380fe16d65c13c25e",
            "0d70bf91da914b9aa31ebdd2227b5d2d",
            "f454236772b14a47a7863f7e470d467f",
            "b3d725f8f66d4554ab91c8a575e3919e",
            "b471ba4fb34f48fab0598423991c41ab",
            "d086bad3d3bb4de2895e0f9723fc230e",
            "1dd712d7633a46aaacf62be17a4bd55a",
            "bcd3490b4fe1444c8e7dabba04daab46",
            "318a1c38797547b7964b9e8cba778252",
            "767924b5a97a47deb89f012048a68e3e",
            "dc279877d1ed4bd39daa88673cac1988",
            "f68c4d3e7d0c467388b3d27182c553b7",
            "c087afd1162d41b08b15cce16d2e4e46",
            "0c0fee1270064c60a340748d6e00b368",
            "d8d76b51b5e24c7783b3c7a8499b5853"
          ]
        },
        "id": "v5aIfgINmE9k",
        "outputId": "add1786b-a29c-4547-8d66-34d4c455cad7"
      },
      "execution_count": null,
      "outputs": [
        {
          "output_type": "display_data",
          "data": {
            "text/plain": [
              "Downloading (…)solve/main/vocab.txt:   0%|          | 0.00/996k [00:00<?, ?B/s]"
            ],
            "application/vnd.jupyter.widget-view+json": {
              "version_major": 2,
              "version_minor": 0,
              "model_id": "ec86525666504f9482554a9a5b00349c"
            }
          },
          "metadata": {}
        },
        {
          "output_type": "display_data",
          "data": {
            "text/plain": [
              "Downloading (…)okenizer_config.json:   0%|          | 0.00/29.0 [00:00<?, ?B/s]"
            ],
            "application/vnd.jupyter.widget-view+json": {
              "version_major": 2,
              "version_minor": 0,
              "model_id": "cfb5515cfb0640c6a4c71d2d166cdb55"
            }
          },
          "metadata": {}
        },
        {
          "output_type": "display_data",
          "data": {
            "text/plain": [
              "Downloading (…)lve/main/config.json:   0%|          | 0.00/625 [00:00<?, ?B/s]"
            ],
            "application/vnd.jupyter.widget-view+json": {
              "version_major": 2,
              "version_minor": 0,
              "model_id": "c17d2b4242e64c6894831bd3198f705a"
            }
          },
          "metadata": {}
        },
        {
          "output_type": "display_data",
          "data": {
            "text/plain": [
              "Downloading model.safetensors:   0%|          | 0.00/714M [00:00<?, ?B/s]"
            ],
            "application/vnd.jupyter.widget-view+json": {
              "version_major": 2,
              "version_minor": 0,
              "model_id": "b471ba4fb34f48fab0598423991c41ab"
            }
          },
          "metadata": {}
        },
        {
          "output_type": "stream",
          "name": "stderr",
          "text": [
            "Some weights of BertForSequenceClassification were not initialized from the model checkpoint at bert-base-multilingual-cased and are newly initialized: ['classifier.weight', 'classifier.bias']\n",
            "You should probably TRAIN this model on a down-stream task to be able to use it for predictions and inference.\n"
          ]
        },
        {
          "output_type": "stream",
          "name": "stdout",
          "text": [
            "Epoch 1/2, Loss: 0.6472\n",
            "Epoch 2/2, Loss: 0.0727\n"
          ]
        }
      ]
    },
    {
      "cell_type": "code",
      "source": [
        "torch.save(model, '/content/drive/MyDrive/finetuned_bert.pth')"
      ],
      "metadata": {
        "id": "fUtbU7VvFFxZ"
      },
      "execution_count": null,
      "outputs": []
    },
    {
      "cell_type": "code",
      "source": [
        "y_pred = label_encoder.inverse_transform(all_preds)\n",
        "accuracy = accuracy_score(y_test, y_pred)\n",
        "classification_rep = classification_report(y_test, y_pred)\n",
        "print(f\"Accuracy: {accuracy:.4f}\")\n",
        "print(classification_rep)"
      ],
      "metadata": {
        "colab": {
          "base_uri": "https://localhost:8080/"
        },
        "id": "lGrKE13umFQk",
        "outputId": "78a10f65-1461-4288-9b79-dde24ee2ec7d"
      },
      "execution_count": null,
      "outputs": [
        {
          "output_type": "stream",
          "name": "stdout",
          "text": [
            "Accuracy: 0.9792\n",
            "                          precision    recall  f1-score   support\n",
            "\n",
            "                Achinese       0.99      0.98      0.99       376\n",
            "               Afrikaans       0.98      0.99      0.99       192\n",
            "                    Akan       1.00      1.00      1.00       416\n",
            "                Albanian       1.00      1.00      1.00       190\n",
            "                 Amharic       0.41      0.91      0.57       192\n",
            "                  Arabic       1.00      1.00      1.00      1858\n",
            "                Armenian       1.00      1.00      1.00       196\n",
            "                Assamese       1.00      1.00      1.00       206\n",
            "                Asturian       0.94      1.00      0.97       207\n",
            "                  Awadhi       0.96      0.99      0.97       218\n",
            "                  Aymara       1.00      0.99      0.99       185\n",
            "             Azerbaijani       1.00      0.99      1.00       400\n",
            "                Balinese       0.97      0.96      0.96       200\n",
            "                 Bambara       0.96      0.92      0.94       195\n",
            "                 Bashkir       1.00      0.99      1.00       198\n",
            "                  Basque       1.00      0.99      1.00       174\n",
            "              Belarusian       1.00      1.00      1.00       200\n",
            "          Bemba (Zambia)       0.99      0.99      0.99       211\n",
            "                 Bengali       1.00      0.99      1.00       200\n",
            "                Bhojpuri       0.97      0.98      0.97       199\n",
            "                Buginese       0.99      0.98      0.99       192\n",
            "               Bulgarian       0.99      1.00      1.00       190\n",
            "                 Burmese       1.00      1.00      1.00       214\n",
            "                 Catalan       1.00      1.00      1.00       233\n",
            "                 Cebuano       0.99      1.00      1.00       189\n",
            " Central Atlas Tamazight       0.53      0.96      0.68       192\n",
            "           Chhattisgarhi       0.98      0.97      0.97       205\n",
            "                 Chinese       1.00      1.00      1.00       613\n",
            "                  Chokwe       0.98      0.96      0.97       193\n",
            "           Crimean Tatar       0.99      0.99      0.99       183\n",
            "                   Czech       1.00      0.99      0.99       195\n",
            "                  Danish       0.98      0.99      0.99       195\n",
            "                   Dinka       1.00      1.00      1.00       193\n",
            "                   Dutch       1.00      1.00      1.00       192\n",
            "                   Dyula       0.99      0.96      0.98       204\n",
            "                Dzongkha       0.83      0.93      0.88       200\n",
            "                 English       0.99      1.00      1.00       198\n",
            "               Esperanto       1.00      0.98      0.99       191\n",
            "                Estonian       1.00      1.00      1.00       187\n",
            "                     Ewe       1.00      0.99      1.00       186\n",
            "                 Faroese       1.00      0.98      0.99       189\n",
            "                  Fijian       0.99      1.00      1.00       173\n",
            "                 Finnish       1.00      1.00      1.00       195\n",
            "                     Fon       1.00      0.99      1.00       190\n",
            "                  French       1.00      1.00      1.00       199\n",
            "                Friulian       1.00      0.99      0.99       195\n",
            "                   Fulah       0.99      0.99      0.99       193\n",
            "                Galician       0.98      0.99      0.99       216\n",
            "                   Ganda       0.98      1.00      0.99       213\n",
            "                Georgian       1.00      1.00      1.00       200\n",
            "                  German       1.00      1.00      1.00       209\n",
            "                 Guarani       1.00      1.00      1.00       222\n",
            "                Gujarati       1.00      1.00      1.00       222\n",
            "                 Haitian       1.00      1.00      1.00       210\n",
            "                   Hausa       0.99      1.00      1.00       185\n",
            "                  Hebrew       1.00      1.00      1.00       199\n",
            "                   Hindi       0.98      0.93      0.95       205\n",
            "               Hungarian       1.00      1.00      1.00       196\n",
            "               Icelandic       0.98      1.00      0.99       195\n",
            "                    Igbo       0.99      0.99      0.99       196\n",
            "                   Iloko       1.00      1.00      1.00       190\n",
            "                   Irish       1.00      1.00      1.00       200\n",
            "                 Italian       1.00      0.99      1.00       217\n",
            "                Japanese       1.00      1.00      1.00       203\n",
            "                Javanese       0.97      0.99      0.98       184\n",
            "                  Kabiyè       0.98      0.99      0.99       179\n",
            "            Kabuverdianu       0.99      1.00      1.00       201\n",
            "                  Kabyle       0.96      0.99      0.97       197\n",
            "                  Kachin       1.00      1.00      1.00       203\n",
            "           Kamba (Kenya)       0.98      0.98      0.98       193\n",
            "                 Kannada       1.00      1.00      1.00       181\n",
            "                  Kanuri       0.98      1.00      0.99       393\n",
            "                Kashmiri       1.00      1.00      1.00       395\n",
            "                  Kazakh       1.00      1.00      1.00       200\n",
            "                   Khmer       0.89      0.99      0.93       222\n",
            "                  Kikuyu       0.93      0.98      0.95       192\n",
            "                Kimbundu       0.96      0.99      0.97       186\n",
            "             Kinyarwanda       0.92      0.92      0.92       196\n",
            "                 Kirghiz       1.00      1.00      1.00       223\n",
            "                   Kongo       0.98      1.00      0.99       194\n",
            "                  Korean       1.00      1.00      1.00       199\n",
            "                 Kurdish       1.00      1.00      1.00       426\n",
            "                     Lao       0.98      0.94      0.96       194\n",
            "                 Latvian       1.00      1.00      1.00       408\n",
            "                Ligurian       0.99      0.98      0.99       196\n",
            "               Limburgan       0.99      0.98      0.99       181\n",
            "                 Lingala       0.99      1.00      1.00       186\n",
            "              Lithuanian       1.00      1.00      1.00       201\n",
            "                 Lombard       1.00      1.00      1.00       210\n",
            "              Luba-Lulua       0.99      0.98      0.99       184\n",
            "Luo (Kenya and Tanzania)       0.99      0.99      0.99       176\n",
            "                  Lushai       0.99      1.00      1.00       186\n",
            "           Luxembourgish       1.00      1.00      1.00       202\n",
            "              Macedonian       1.00      1.00      1.00       207\n",
            "                  Magahi       0.98      0.98      0.98       201\n",
            "                Maithili       0.98      1.00      0.99       189\n",
            "                Malagasy       1.00      1.00      1.00       217\n",
            "   Malay (macrolanguage)       0.99      0.99      0.99      1204\n",
            "               Malayalam       1.00      1.00      1.00       192\n",
            "                 Maltese       1.00      0.99      1.00       208\n",
            "                Manipuri       1.00      1.00      1.00       202\n",
            "                   Maori       0.99      1.00      1.00       186\n",
            "                 Marathi       1.00      1.00      1.00       204\n",
            "    Modern Greek (1453-)       1.00      1.00      1.00       206\n",
            "               Mongolian       1.00      1.00      1.00       190\n",
            "                   Mossi       1.00      1.00      1.00       189\n",
            "  Nepali (macrolanguage)       1.00      1.00      1.00       208\n",
            "               Norwegian       0.99      0.99      0.99       381\n",
            "                    Nuer       1.00      0.99      1.00       168\n",
            "                  Nyanja       0.98      0.99      0.98       203\n",
            "     Occitan (post 1500)       1.00      1.00      1.00       226\n",
            "   Oriya (macrolanguage)       1.00      0.99      0.99       203\n",
            "                   Oromo       1.00      0.99      0.99       203\n",
            "              Pangasinan       1.00      1.00      1.00       198\n",
            "                 Panjabi       1.00      1.00      1.00       213\n",
            "              Papiamento       1.00      1.00      1.00       213\n",
            "                    Pedi       0.99      0.98      0.99       181\n",
            "                 Persian       1.00      1.00      1.00       398\n",
            "                  Polish       1.00      0.99      1.00       198\n",
            "              Portuguese       0.99      0.99      0.99       204\n",
            "                  Pushto       1.00      0.99      1.00       191\n",
            "                 Quechua       1.00      1.00      1.00       212\n",
            "                Romanian       1.00      1.00      1.00       222\n",
            "                   Rundi       0.90      0.91      0.90       194\n",
            "                 Russian       1.00      1.00      1.00       212\n",
            "                  Samoan       1.00      0.99      1.00       189\n",
            "                   Sango       1.00      1.00      1.00       202\n",
            "                Sanskrit       1.00      1.00      1.00       195\n",
            "                 Santali       0.94      0.65      0.77       176\n",
            "               Sardinian       0.99      0.99      0.99       189\n",
            "         Scottish Gaelic       1.00      0.99      1.00       187\n",
            "          Serbo-Croatian       1.00      1.00      1.00       578\n",
            "                    Shan       1.00      1.00      1.00       209\n",
            "                   Shona       0.99      0.99      0.99       203\n",
            "                Sicilian       1.00      0.99      1.00       179\n",
            "                Silesian       0.99      1.00      1.00       194\n",
            "                  Sindhi       1.00      1.00      1.00       220\n",
            "                 Sinhala       0.84      0.25      0.39       207\n",
            "                  Slovak       0.99      1.00      0.99       195\n",
            "               Slovenian       1.00      0.99      0.99       203\n",
            "                  Somali       0.99      1.00      0.99       185\n",
            "          Southern Sotho       0.96      0.99      0.98       201\n",
            "                 Spanish       1.00      0.94      0.97       180\n",
            "               Sundanese       1.00      0.98      0.99       199\n",
            " Swahili (macrolanguage)       1.00      0.96      0.98       225\n",
            "                   Swati       0.98      0.97      0.97       206\n",
            "                 Swedish       1.00      0.98      0.99       196\n",
            "                 Tagalog       1.00      0.99      1.00       188\n",
            "                   Tajik       1.00      1.00      1.00       213\n",
            "                Tamashek       0.99      0.98      0.98       410\n",
            "                   Tamil       1.00      1.00      1.00       222\n",
            "                   Tatar       0.99      1.00      1.00       181\n",
            "                  Telugu       1.00      1.00      1.00       183\n",
            "                    Thai       1.00      1.00      1.00       199\n",
            "                 Tibetan       0.91      0.81      0.86       192\n",
            "                Tigrinya       0.00      0.00      0.00       197\n",
            "               Tok Pisin       1.00      1.00      1.00       213\n",
            "                  Tsonga       1.00      1.00      1.00       202\n",
            "                  Tswana       0.98      0.96      0.97       192\n",
            "                 Tumbuka       0.99      0.98      0.99       194\n",
            "                 Turkish       0.99      1.00      1.00       198\n",
            "                 Turkmen       1.00      1.00      1.00       216\n",
            "                  Uighur       1.00      1.00      1.00       187\n",
            "               Ukrainian       1.00      1.00      1.00       192\n",
            "                 Umbundu       1.00      0.99      1.00       206\n",
            "                    Urdu       1.00      1.00      1.00       195\n",
            "                   Uzbek       1.00      0.99      1.00       193\n",
            "                Venetian       0.96      1.00      0.98       204\n",
            "              Vietnamese       1.00      1.00      1.00       210\n",
            "     Waray (Philippines)       1.00      1.00      1.00       216\n",
            "                   Welsh       1.00      1.00      1.00       228\n",
            "                   Wolof       1.00      1.00      1.00       207\n",
            "                   Xhosa       0.90      0.85      0.87       212\n",
            "                 Yiddish       1.00      1.00      1.00       218\n",
            "                  Yoruba       1.00      0.99      0.99       201\n",
            "                    Zulu       0.83      0.93      0.88       211\n",
            "\n",
            "                accuracy                           0.98     40479\n",
            "               macro avg       0.98      0.98      0.97     40479\n",
            "            weighted avg       0.98      0.98      0.98     40479\n",
            "\n"
          ]
        }
      ]
    },
    {
      "cell_type": "code",
      "source": [
        "# Function to predict the language of a sentence\n",
        "def predict_language(sentence, model, label_encoder, device):\n",
        "    inputs = tokenizer(sentence, return_tensors='pt', padding=True, truncation=True, max_length=128)\n",
        "    model.eval()\n",
        "    inputs = {key: value.to(device) for key, value in inputs.items()}\n",
        "    with torch.no_grad():\n",
        "        logits = model(**inputs).logits\n",
        "    predicted_class = torch.argmax(logits, dim=1).item()\n",
        "    predicted_language = label_encoder.inverse_transform([predicted_class])[0]\n",
        "    return predicted_language\n",
        "\n",
        "sentence1 = \"This is a sample text.\"\n",
        "sentence2 = 'मेरा नाम हर्ष हे'\n",
        "sentence3 = 'すみません、その駅まで案内していただけますか'\n",
        "\n",
        "device = torch.device(\"cuda\" if torch.cuda.is_available() else \"cpu\")\n",
        "model.to(device)\n",
        "\n",
        "predicted_language = predict_language(sentence1, model, label_encoder, device)\n",
        "print(f\"Predicted Language: {predicted_language}\")\n",
        "predicted_language = predict_language(sentence2, model, label_encoder, device)\n",
        "print(f\"Predicted Language: {predicted_language}\")\n",
        "predicted_language = predict_language(sentence3, model, label_encoder, device)\n",
        "print(f\"Predicted Language: {predicted_language}\")"
      ],
      "metadata": {
        "colab": {
          "base_uri": "https://localhost:8080/"
        },
        "id": "mqIS09FGmrh-",
        "outputId": "d160662f-3713-4036-cf17-54a7c9666ab5"
      },
      "execution_count": null,
      "outputs": [
        {
          "output_type": "stream",
          "name": "stdout",
          "text": [
            "Predicted Language: English\n",
            "Predicted Language: Chhattisgarhi\n",
            "Predicted Language: Japanese\n"
          ]
        }
      ]
    },
    {
      "cell_type": "markdown",
      "source": [
        "## Bi-LSTM (inspired by Apple)"
      ],
      "metadata": {
        "id": "_TzcQGMN0JLz"
      }
    },
    {
      "cell_type": "code",
      "source": [
        "import pandas as pd\n",
        "import numpy as np\n",
        "import torch\n",
        "import torch.nn as nn\n",
        "from sklearn.model_selection import train_test_split\n",
        "from transformers import BertTokenizer\n",
        "from torch.utils.data import DataLoader, TensorDataset\n",
        "from sklearn.metrics import classification_report, accuracy_score\n",
        "\n",
        "tokenizer = BertTokenizer.from_pretrained('bert-base-multilingual-cased')\n",
        "\n",
        "x_train_tokens = tokenizer(list(x_train), padding=True, truncation=True, return_tensors='pt', max_length=128)\n",
        "x_test_tokens = tokenizer(list(x_test), padding=True, truncation=True, return_tensors='pt', max_length=128)\n",
        "\n",
        "label_encoder = LabelEncoder()\n",
        "y_train_encoded = label_encoder.fit_transform(y_train)\n",
        "y_test_encoded = label_encoder.transform(y_test)\n",
        "\n",
        "y_train_tensor = torch.tensor(y_train_encoded, dtype=torch.long)\n",
        "y_test_tensor = torch.tensor(y_test_encoded, dtype=torch.long)\n",
        "\n",
        "train_dataset = TensorDataset(x_train_tokens['input_ids'], x_train_tokens['attention_mask'], y_train_tensor)\n",
        "test_dataset = TensorDataset(x_test_tokens['input_ids'], x_test_tokens['attention_mask'], y_test_tensor)\n",
        "\n",
        "batch_size = 32\n",
        "train_loader = DataLoader(train_dataset, batch_size=batch_size, shuffle=True)\n",
        "test_loader = DataLoader(test_dataset, batch_size=batch_size)\n",
        "\n",
        "# Define a Bidirectional LSTM model\n",
        "class BiLSTMModel(nn.Module):\n",
        "    def __init__(self, vocab_size, embedding_dim, hidden_dim, num_classes):\n",
        "        super(BiLSTMModel, self).__init__()\n",
        "        self.embedding = nn.Embedding(vocab_size, embedding_dim)\n",
        "        self.lstm = nn.LSTM(embedding_dim, hidden_dim, batch_first=True, bidirectional=True)\n",
        "        self.fc = nn.Linear(2 * hidden_dim, num_classes)  # Multiply by 2 for bidirectional LSTM\n",
        "\n",
        "    def forward(self, x):\n",
        "        x = self.embedding(x)\n",
        "        lstm_out, _ = self.lstm(x)\n",
        "        output = self.fc(lstm_out[:, -1, :])\n",
        "        return output\n",
        "\n",
        "# Initialize the BiLSTM model\n",
        "vocab_size = len(tokenizer)\n",
        "embedding_dim = 128\n",
        "hidden_dim = 128\n",
        "num_classes = len(label_encoder.classes_)\n",
        "\n",
        "model = BiLSTMModel(vocab_size, embedding_dim, hidden_dim, num_classes)\n",
        "\n",
        "criterion = nn.CrossEntropyLoss()\n",
        "optimizer = torch.optim.Adam(model.parameters(), lr=1e-3)\n",
        "\n",
        "num_epochs = 5\n",
        "device = torch.device(\"cuda\" if torch.cuda.is_available() else \"cpu\")\n",
        "model.to(device)\n",
        "\n",
        "for epoch in range(num_epochs):\n",
        "    model.train()\n",
        "    total_loss = 0\n",
        "    for batch in train_loader:\n",
        "        input_ids, attention_mask, labels = batch\n",
        "        input_ids, attention_mask, labels = input_ids.to(device), attention_mask.to(device), labels.to(device)\n",
        "        optimizer.zero_grad()\n",
        "        logits = model(input_ids)\n",
        "        loss = criterion(logits, labels)\n",
        "        total_loss += loss.item()\n",
        "        loss.backward()\n",
        "        optimizer.step()\n",
        "    avg_loss = total_loss / len(train_loader)\n",
        "    print(f\"Epoch {epoch + 1}/{num_epochs}, Loss: {avg_loss:.4f}\")\n",
        "\n",
        "model.eval()\n",
        "all_preds = []\n",
        "with torch.no_grad():\n",
        "    for batch in test_loader:\n",
        "        input_ids, attention_mask, labels = batch\n",
        "        input_ids, attention_mask, labels = input_ids.to(device), attention_mask.to(device), labels.to(device)\n",
        "        logits = model(input_ids)\n",
        "        preds = torch.argmax(logits, dim=1).cpu().numpy()\n",
        "        all_preds.extend(preds)\n",
        "\n",
        "y_pred = label_encoder.inverse_transform(all_preds)\n",
        "\n",
        "# Calculate accuracy and print classification report\n",
        "accuracy = accuracy_score(y_test, y_pred)\n",
        "classification_rep = classification_report(y_test, y_pred)\n",
        "\n",
        "print(f\"Accuracy: {accuracy:.4f}\")\n",
        "print(classification_rep)\n"
      ],
      "metadata": {
        "colab": {
          "base_uri": "https://localhost:8080/"
        },
        "id": "DOdTjatxyhra",
        "outputId": "0bb09b7a-e5ed-41f1-df1f-7fe669a8f590"
      },
      "execution_count": null,
      "outputs": [
        {
          "output_type": "stream",
          "name": "stdout",
          "text": [
            "Epoch 1/5, Loss: 2.1782\n",
            "Epoch 2/5, Loss: 1.1910\n",
            "Epoch 3/5, Loss: 0.5931\n",
            "Epoch 4/5, Loss: 0.2232\n",
            "Epoch 5/5, Loss: 0.1031\n",
            "Accuracy: 0.9682\n",
            "              precision    recall  f1-score   support\n",
            "\n",
            "      Arabic       1.00      0.99      1.00       113\n",
            "     Chinese       0.99      1.00      1.00       108\n",
            "       Dutch       0.97      0.96      0.97       110\n",
            "     English       0.85      0.95      0.90       102\n",
            "    Estonian       0.93      0.87      0.90        98\n",
            "      French       0.95      0.99      0.97       105\n",
            "       Hindi       1.00      0.98      0.99       112\n",
            "  Indonesian       0.98      0.94      0.96       102\n",
            "    Japanese       1.00      0.97      0.98        90\n",
            "      Korean       1.00      1.00      1.00        87\n",
            "       Latin       0.85      0.93      0.89       103\n",
            "     Persian       1.00      0.99      1.00       107\n",
            "   Portugese       0.98      1.00      0.99        98\n",
            "      Pushto       1.00      0.95      0.97       101\n",
            "    Romanian       0.98      0.97      0.97        98\n",
            "     Russian       0.98      1.00      0.99       110\n",
            "     Spanish       1.00      0.95      0.97        95\n",
            "     Swedish       0.90      1.00      0.95        86\n",
            "       Tamil       1.00      0.99      0.99        93\n",
            "        Thai       1.00      0.97      0.98        88\n",
            "     Turkish       0.98      0.93      0.95        97\n",
            "        Urdu       0.99      0.97      0.98        97\n",
            "\n",
            "    accuracy                           0.97      2200\n",
            "   macro avg       0.97      0.97      0.97      2200\n",
            "weighted avg       0.97      0.97      0.97      2200\n",
            "\n"
          ]
        }
      ]
    },
    {
      "cell_type": "code",
      "source": [
        "# Function to predict the language of a sentence\n",
        "def predict_language(sentence, model, label_encoder, device):\n",
        "    inputs = tokenizer(sentence, return_tensors='pt', padding=True, truncation=True, max_length=128)\n",
        "    model.eval()\n",
        "    inputs = {key: value.to(device) for key, value in inputs.items()}\n",
        "    with torch.no_grad():\n",
        "        logits = model(inputs['input_ids'])\n",
        "    predicted_class = torch.argmax(logits, dim=1).item()\n",
        "    predicted_language = label_encoder.inverse_transform([predicted_class])[0]\n",
        "    return predicted_language\n",
        "\n",
        "sentence1 = \"This is a sample text.\"\n",
        "sentence2 = 'Это русский'\n",
        "\n",
        "device = torch.device(\"cuda\" if torch.cuda.is_available() else \"cpu\")\n",
        "model.to(device)\n",
        "\n",
        "predicted_language = predict_language(sentence1, model, label_encoder, device)\n",
        "print(f\"Predicted Language: {predicted_language}\")\n",
        "predicted_language = predict_language(sentence2, model, label_encoder, device)\n",
        "print(f\"Predicted Language: {predicted_language}\")\n"
      ],
      "metadata": {
        "colab": {
          "base_uri": "https://localhost:8080/"
        },
        "id": "saUE7zbS4X6X",
        "outputId": "8e0b7fdb-f7ae-4316-fc29-e3f9c72e0e0d"
      },
      "execution_count": null,
      "outputs": [
        {
          "output_type": "stream",
          "name": "stdout",
          "text": [
            "Predicted Language: Portugese\n",
            "Predicted Language: Estonian\n"
          ]
        }
      ]
    },
    {
      "cell_type": "code",
      "source": [],
      "metadata": {
        "id": "0COxr-8V7rX-"
      },
      "execution_count": null,
      "outputs": []
    },
    {
      "cell_type": "markdown",
      "source": [
        "## Keras Bi-LSTM"
      ],
      "metadata": {
        "id": "yu30Wp-x7s6s"
      }
    },
    {
      "cell_type": "code",
      "source": [
        "import pandas as pd\n",
        "import numpy as np\n",
        "import tensorflow as tf\n",
        "from tensorflow.keras.preprocessing.text import Tokenizer\n",
        "from tensorflow.keras.preprocessing.sequence import pad_sequences\n",
        "from sklearn.model_selection import train_test_split\n",
        "from sklearn.preprocessing import LabelEncoder\n",
        "from sklearn.metrics import classification_report, accuracy_score\n",
        "\n",
        "# Load your dataset, assuming 'data' contains 'text' and 'language' columns\n",
        "# x_train, x_test, y_train, y_test = train_test_split(data.text.values, data.language.values, test_size=0.1, random_state=42)\n",
        "\n",
        "tokenizer = Tokenizer()\n",
        "tokenizer.fit_on_texts(x_train)\n",
        "\n",
        "x_train_sequences = tokenizer.texts_to_sequences(x_train)\n",
        "x_test_sequences = tokenizer.texts_to_sequences(x_test)\n",
        "\n",
        "max_sequence_length = 128  # Set your desired sequence length\n",
        "x_train_padded = pad_sequences(x_train_sequences, maxlen=max_sequence_length, padding='post', truncating='post')\n",
        "x_test_padded = pad_sequences(x_test_sequences, maxlen=max_sequence_length, padding='post', truncating='post')\n",
        "\n",
        "label_encoder = LabelEncoder()\n",
        "y_train_encoded = label_encoder.fit_transform(y_train)\n",
        "y_test_encoded = label_encoder.transform(y_test)\n",
        "\n",
        "# Define the BiLSTM model\n",
        "model = tf.keras.Sequential([\n",
        "    tf.keras.layers.Embedding(input_dim=len(tokenizer.word_index) + 1, output_dim=128, input_length=max_sequence_length),\n",
        "    tf.keras.layers.Bidirectional(tf.keras.layers.LSTM(128, return_sequences=True)),\n",
        "    tf.keras.layers.GlobalMaxPool1D(),\n",
        "    tf.keras.layers.Dense(128, activation='relu'),\n",
        "    tf.keras.layers.Dense(len(label_encoder.classes_), activation='softmax')\n",
        "])\n",
        "\n",
        "\n",
        "model.compile(loss='sparse_categorical_crossentropy', optimizer='adam', metrics=['accuracy'])\n",
        "\n",
        "num_epochs = 5\n",
        "batch_size = 32\n",
        "\n",
        "history = model.fit(\n",
        "    x_train_padded, y_train_encoded,\n",
        "    epochs=num_epochs,\n",
        "    batch_size=batch_size,\n",
        "    validation_data=(x_test_padded, y_test_encoded),\n",
        "    verbose=2\n",
        ")\n",
        "\n",
        "\n",
        "y_pred = model.predict(x_test_padded)\n",
        "y_pred_classes = np.argmax(y_pred, axis=1)\n",
        "y_test_classes = y_test_encoded\n",
        "\n",
        "\n",
        "classification_rep = classification_report(y_test_classes, y_pred_classes, target_names=label_encoder.classes_)\n",
        "print(\"Classification Report:\\n\", classification_rep)\n",
        "\n",
        "\n",
        "accuracy = accuracy_score(y_test_classes, y_pred_classes)\n",
        "print(f\"Accuracy: {accuracy:.4f}\")\n",
        "\n",
        "def predict_language(sentence, model, tokenizer, label_encoder):\n",
        "    # Tokenize and preprocess the sentence\n",
        "    sequence = tokenizer.texts_to_sequences([sentence])\n",
        "    padded_sequence = pad_sequences(sequence, maxlen=max_sequence_length, padding='post', truncating='post')\n",
        "    # Make predictions\n",
        "    prediction = model.predict(padded_sequence)\n",
        "    predicted_class = np.argmax(prediction, axis=1)[0]\n",
        "    predicted_language = label_encoder.inverse_transform([predicted_class])[0]\n",
        "    return predicted_language\n",
        "\n",
        "# Example usage\n",
        "sentence1 = \"This is a sample text.\"\n",
        "sentence2 = 'Это русский'\n",
        "\n",
        "predicted_language = predict_language(sentence1, model, tokenizer, label_encoder)\n",
        "print(f\"Predicted Language: {predicted_language}\")\n",
        "\n",
        "predicted_language = predict_language(sentence2, model, tokenizer, label_encoder)\n",
        "print(f\"Predicted Language: {predicted_language}\")\n"
      ],
      "metadata": {
        "colab": {
          "base_uri": "https://localhost:8080/"
        },
        "id": "FENAEtlG7rii",
        "outputId": "61473b6f-da69-4af5-9630-1954e1d3b114"
      },
      "execution_count": null,
      "outputs": [
        {
          "output_type": "stream",
          "name": "stdout",
          "text": [
            "Epoch 1/5\n",
            "619/619 - 113s - loss: 0.6715 - accuracy: 0.8062 - val_loss: 0.2290 - val_accuracy: 0.9300 - 113s/epoch - 183ms/step\n",
            "Epoch 2/5\n",
            "619/619 - 44s - loss: 0.0744 - accuracy: 0.9802 - val_loss: 0.1893 - val_accuracy: 0.9432 - 44s/epoch - 71ms/step\n",
            "Epoch 3/5\n",
            "619/619 - 25s - loss: 0.0121 - accuracy: 0.9969 - val_loss: 0.2172 - val_accuracy: 0.9441 - 25s/epoch - 40ms/step\n",
            "Epoch 4/5\n",
            "619/619 - 21s - loss: 0.0025 - accuracy: 0.9994 - val_loss: 0.2181 - val_accuracy: 0.9459 - 21s/epoch - 35ms/step\n",
            "Epoch 5/5\n",
            "619/619 - 21s - loss: 0.0020 - accuracy: 0.9995 - val_loss: 0.2060 - val_accuracy: 0.9514 - 21s/epoch - 34ms/step\n",
            "69/69 [==============================] - 2s 8ms/step\n",
            "Classification Report:\n",
            "               precision    recall  f1-score   support\n",
            "\n",
            "      Arabic       1.00      0.99      1.00       113\n",
            "     Chinese       0.91      0.38      0.54       108\n",
            "       Dutch       0.99      1.00      1.00       110\n",
            "     English       0.92      0.96      0.94       102\n",
            "    Estonian       1.00      0.93      0.96        98\n",
            "      French       0.98      0.99      0.99       105\n",
            "       Hindi       0.99      0.98      0.99       112\n",
            "  Indonesian       1.00      0.99      1.00       102\n",
            "    Japanese       0.53      0.96      0.69        90\n",
            "      Korean       1.00      0.99      0.99        87\n",
            "       Latin       0.95      0.97      0.96       103\n",
            "     Persian       0.99      0.99      0.99       107\n",
            "   Portugese       0.97      1.00      0.98        98\n",
            "      Pushto       0.99      0.97      0.98       101\n",
            "    Romanian       1.00      0.96      0.98        98\n",
            "     Russian       0.98      1.00      0.99       110\n",
            "     Spanish       0.97      0.99      0.98        95\n",
            "     Swedish       1.00      1.00      1.00        86\n",
            "       Tamil       1.00      0.99      0.99        93\n",
            "        Thai       1.00      0.97      0.98        88\n",
            "     Turkish       1.00      0.99      0.99        97\n",
            "        Urdu       1.00      0.98      0.99        97\n",
            "\n",
            "    accuracy                           0.95      2200\n",
            "   macro avg       0.96      0.95      0.95      2200\n",
            "weighted avg       0.96      0.95      0.95      2200\n",
            "\n",
            "Accuracy: 0.9514\n",
            "1/1 [==============================] - 0s 34ms/step\n",
            "Predicted Language: Japanese\n",
            "1/1 [==============================] - 0s 42ms/step\n",
            "Predicted Language: Japanese\n"
          ]
        }
      ]
    },
    {
      "cell_type": "code",
      "source": [
        "# Example usage\n",
        "sentence1 = \"This is a sample text predic tsomething why is it wrong oh my goodness.\"\n",
        "sentence2 = 'mi corazon esta noche'\n",
        "\n",
        "predicted_language = predict_language(sentence1, model, tokenizer, label_encoder)\n",
        "print(f\"Predicted Language: {predicted_language}\")\n",
        "\n",
        "predicted_language = predict_language(sentence2, model, tokenizer, label_encoder)\n",
        "print(f\"Predicted Language: {predicted_language}\")"
      ],
      "metadata": {
        "colab": {
          "base_uri": "https://localhost:8080/"
        },
        "id": "ZSZGO0aw3G6e",
        "outputId": "dd2cf17b-1022-4f6d-847e-ebc50d416991"
      },
      "execution_count": null,
      "outputs": [
        {
          "output_type": "stream",
          "name": "stdout",
          "text": [
            "1/1 [==============================] - 0s 44ms/step\n",
            "Predicted Language: Urdu\n",
            "1/1 [==============================] - 0s 39ms/step\n",
            "Predicted Language: Japanese\n"
          ]
        }
      ]
    },
    {
      "cell_type": "markdown",
      "source": [
        "## Naive Bayes"
      ],
      "metadata": {
        "id": "8VV6AEbS1pvq"
      }
    },
    {
      "cell_type": "code",
      "source": [
        "# function to clean text\n",
        "def clean_txt(text):\n",
        "    text=text.lower()\n",
        "    text=re.sub(r'[^\\w\\s]',' ',text)\n",
        "    text=re.sub(r'[_0-9]',' ',text)\n",
        "    text=re.sub(r'\\s\\s+',' ',text)\n",
        "    return text\n",
        "\n",
        "x_train = [clean_txt(text) for text in tqdm(x_train)]\n",
        "x_test = [clean_txt(text) for text in tqdm(x_test)]\n",
        "\n",
        "tfidf = TfidfVectorizer()\n",
        "tfidf.fit(x_train)\n",
        "x_train_ready = tfidf.transform(x_train)\n",
        "x_test_ready = tfidf.transform(x_test)\n",
        "\n",
        "x_train_ready,x_test_ready\n",
        "\n",
        "enc = LabelEncoder()\n",
        "enc.fit(y_train)\n",
        "y_train_ready = enc.transform(y_train)\n",
        "y_test_ready = enc.transform(y_test)\n",
        "labels = enc.classes_\n",
        "nb = MultinomialNB()"
      ],
      "metadata": {
        "colab": {
          "base_uri": "https://localhost:8080/"
        },
        "id": "dgAIUCqBmsAZ",
        "outputId": "d385f08f-3244-425d-97ca-b0fc4792edf5"
      },
      "execution_count": null,
      "outputs": [
        {
          "output_type": "stream",
          "name": "stderr",
          "text": [
            "100%|██████████| 19800/19800 [00:00<00:00, 28332.87it/s]\n",
            "100%|██████████| 2200/2200 [00:00<00:00, 24942.54it/s]\n"
          ]
        }
      ]
    },
    {
      "cell_type": "code",
      "source": [
        "from sklearn.metrics import classification_report\n",
        "nb.fit(x_train_ready, y_train_ready)\n",
        "y_pred = nb.predict(x_test_ready)\n",
        "y_pred_original = enc.inverse_transform(y_pred)\n",
        "classification_rep = classification_report(y_test, y_pred_original, target_names=labels)\n",
        "print(classification_rep)"
      ],
      "metadata": {
        "colab": {
          "base_uri": "https://localhost:8080/"
        },
        "id": "BNmbNtL-AJXz",
        "outputId": "3c245c65-5e72-4cdb-ea02-19bb005bf5bb"
      },
      "execution_count": null,
      "outputs": [
        {
          "output_type": "stream",
          "name": "stdout",
          "text": [
            "              precision    recall  f1-score   support\n",
            "\n",
            "      Arabic       1.00      1.00      1.00       113\n",
            "     Chinese       0.96      0.44      0.60       108\n",
            "       Dutch       0.97      0.99      0.98       110\n",
            "     English       0.73      1.00      0.85       102\n",
            "    Estonian       0.98      0.96      0.97        98\n",
            "      French       0.95      0.99      0.97       105\n",
            "       Hindi       1.00      0.98      0.99       112\n",
            "  Indonesian       0.99      0.97      0.98       102\n",
            "    Japanese       1.00      0.64      0.78        90\n",
            "      Korean       1.00      1.00      1.00        87\n",
            "       Latin       0.98      0.90      0.94       103\n",
            "     Persian       1.00      1.00      1.00       107\n",
            "   Portugese       1.00      0.97      0.98        98\n",
            "      Pushto       1.00      0.97      0.98       101\n",
            "    Romanian       0.97      0.99      0.98        98\n",
            "     Russian       0.97      1.00      0.99       110\n",
            "     Spanish       0.98      1.00      0.99        95\n",
            "     Swedish       0.56      1.00      0.72        86\n",
            "       Tamil       1.00      0.99      0.99        93\n",
            "        Thai       1.00      0.97      0.98        88\n",
            "     Turkish       0.99      0.99      0.99        97\n",
            "        Urdu       1.00      0.97      0.98        97\n",
            "\n",
            "    accuracy                           0.94      2200\n",
            "   macro avg       0.96      0.94      0.94      2200\n",
            "weighted avg       0.96      0.94      0.94      2200\n",
            "\n"
          ]
        }
      ]
    },
    {
      "cell_type": "code",
      "source": [
        "# use pipeline to combine prefitted vectorizer and trained model into one object\n",
        "model = Pipeline([('vectorizer',tfidf),('nb',nb)])\n",
        "# function to predict language from text\n",
        "def predict(text):\n",
        "    pred = model.predict([clean_txt(text)])\n",
        "    ans = enc.inverse_transform(pred)\n",
        "    return ans[0]\n",
        "\n",
        "predict('my name is harsh'), predict('मेरा नाम हर्ष हे'), predict('mi nombre es harsh'), predict('меня зовут Харш'), predict('mon nom est harsh')"
      ],
      "metadata": {
        "id": "Yu6SCTYcScc2",
        "colab": {
          "base_uri": "https://localhost:8080/"
        },
        "outputId": "b4037daa-0223-4fdc-8941-2cd640b9c7db"
      },
      "execution_count": null,
      "outputs": [
        {
          "output_type": "execute_result",
          "data": {
            "text/plain": [
              "('English', 'Hindi', 'Spanish', 'Russian', 'French')"
            ]
          },
          "metadata": {},
          "execution_count": 59
        }
      ]
    }
  ]
}